{
 "cells": [
  {
   "cell_type": "code",
   "execution_count": 1,
   "id": "c1edd6fb",
   "metadata": {},
   "outputs": [],
   "source": [
    "import scanpy as sc\n",
    "import pandas as pd\n",
    "import seaborn as sns"
   ]
  },
  {
   "cell_type": "code",
   "execution_count": 2,
   "id": "75003e62",
   "metadata": {},
   "outputs": [
    {
     "name": "stdout",
     "output_type": "stream",
     "text": [
      "WARNING: If you miss a compact list, please try `print_header`!\n",
      "-----\n",
      "anndata     0.7.8\n",
      "scanpy      1.8.2\n",
      "sinfo       0.3.1\n",
      "-----\n",
      "PIL                         9.0.1\n",
      "anndata                     0.7.8\n",
      "asciitree                   NA\n",
      "asttokens                   NA\n",
      "backcall                    0.2.0\n",
      "beta_ufunc                  NA\n",
      "binom_ufunc                 NA\n",
      "cffi                        1.15.0\n",
      "cloudpickle                 2.0.0\n",
      "colorama                    0.4.4\n",
      "cycler                      0.10.0\n",
      "cython_runtime              NA\n",
      "cytoolz                     0.11.2\n",
      "dask                        2022.02.0\n",
      "dateutil                    2.8.2\n",
      "debugpy                     1.5.1\n",
      "decorator                   5.1.1\n",
      "defusedxml                  0.7.1\n",
      "entrypoints                 0.4\n",
      "executing                   0.8.2\n",
      "fasteners                   0.17.3\n",
      "fsspec                      2022.02.0\n",
      "h5py                        3.6.0\n",
      "hypergeom_ufunc             NA\n",
      "igraph                      0.9.9\n",
      "ipykernel                   6.9.1\n",
      "ipython_genutils            0.2.0\n",
      "ipywidgets                  7.6.5\n",
      "jedi                        0.18.1\n",
      "jinja2                      3.0.3\n",
      "joblib                      1.1.0\n",
      "kiwisolver                  1.3.2\n",
      "leidenalg                   0.8.9\n",
      "llvmlite                    0.38.0\n",
      "markupsafe                  2.1.0\n",
      "matplotlib                  3.5.1\n",
      "matplotlib_inline           NA\n",
      "mpl_toolkits                NA\n",
      "msgpack                     1.0.3\n",
      "natsort                     8.1.0\n",
      "nbinom_ufunc                NA\n",
      "numba                       0.55.1\n",
      "numcodecs                   0.9.1\n",
      "numexpr                     2.8.0\n",
      "numpy                       1.21.5\n",
      "packaging                   21.3\n",
      "pandas                      1.4.1\n",
      "parso                       0.8.3\n",
      "pexpect                     4.8.0\n",
      "pickleshare                 0.7.5\n",
      "pkg_resources               NA\n",
      "prompt_toolkit              3.0.27\n",
      "psutil                      5.9.0\n",
      "ptyprocess                  0.7.0\n",
      "pure_eval                   0.2.2\n",
      "pydev_ipython               NA\n",
      "pydevconsole                NA\n",
      "pydevd                      2.6.0\n",
      "pydevd_concurrency_analyser NA\n",
      "pydevd_file_utils           NA\n",
      "pydevd_plugins              NA\n",
      "pydevd_tracing              NA\n",
      "pygments                    2.11.2\n",
      "pyparsing                   3.0.7\n",
      "pytz                        2021.3\n",
      "scanpy                      1.8.2\n",
      "scipy                       1.8.0\n",
      "seaborn                     0.11.2\n",
      "setuptools                  59.8.0\n",
      "sinfo                       0.3.1\n",
      "six                         1.16.0\n",
      "sklearn                     1.0.2\n",
      "sphinxcontrib               NA\n",
      "stack_data                  0.2.0\n",
      "statsmodels                 0.13.2\n",
      "tables                      3.7.0\n",
      "tblib                       1.7.0\n",
      "texttable                   1.6.4\n",
      "threadpoolctl               3.1.0\n",
      "tlz                         0.11.2\n",
      "toolz                       0.11.2\n",
      "tornado                     6.1\n",
      "traitlets                   5.1.1\n",
      "typing_extensions           NA\n",
      "wcwidth                     0.2.5\n",
      "yaml                        6.0\n",
      "zarr                        2.11.0\n",
      "zmq                         22.3.0\n",
      "-----\n",
      "IPython             8.0.1\n",
      "jupyter_client      7.1.2\n",
      "jupyter_core        4.9.2\n",
      "notebook            6.4.8\n",
      "-----\n",
      "Python 3.8.12 | packaged by conda-forge | (default, Jan 30 2022, 23:42:07) [GCC 9.4.0]\n",
      "Linux-2.6.32-754.17.1.el6.x86_64-x86_64-with-glibc2.10\n",
      "40 logical CPU cores, x86_64\n",
      "-----\n",
      "Session information updated at 2022-03-14 16:59\n",
      "\n"
     ]
    }
   ],
   "source": [
    "sc.settings.verbosity = 1             # verbosity: errors (0), warnings (1), info (2), hints (3)\n",
    "sc.logging.print_versions()\n",
    "sc.settings.set_figure_params(dpi=80, frameon=False, figsize=(3, 3), facecolor='white')"
   ]
  },
  {
   "cell_type": "code",
   "execution_count": 3,
   "id": "fec1ebe0",
   "metadata": {},
   "outputs": [
    {
     "data": {
      "application/vnd.jupyter.widget-view+json": {
       "model_id": "b95253bd52b24d4d90bd9008650e00fd",
       "version_major": 2,
       "version_minor": 0
      },
      "text/plain": [
       "  0%|          | 0.00/23.5M [00:00<?, ?B/s]"
      ]
     },
     "metadata": {},
     "output_type": "display_data"
    }
   ],
   "source": [
    "adata_ref = sc.datasets.pbmc3k_processed()  # this is an earlier version of the dataset from the pbmc3k tutorial\n",
    "adata = sc.datasets.pbmc68k_reduced()"
   ]
  },
  {
   "cell_type": "code",
   "execution_count": 8,
   "id": "8455048f",
   "metadata": {},
   "outputs": [
    {
     "data": {
      "text/plain": [
       "AxisArrays with keys: X_pca, X_tsne, X_umap, X_draw_graph_fr"
      ]
     },
     "execution_count": 8,
     "metadata": {},
     "output_type": "execute_result"
    }
   ],
   "source": [
    "adata_ref"
   ]
  },
  {
   "cell_type": "code",
   "execution_count": 5,
   "id": "8e30a2e8",
   "metadata": {},
   "outputs": [
    {
     "data": {
      "text/plain": [
       "AnnData object with n_obs × n_vars = 700 × 765\n",
       "    obs: 'bulk_labels', 'n_genes', 'percent_mito', 'n_counts', 'S_score', 'G2M_score', 'phase', 'louvain'\n",
       "    var: 'n_counts', 'means', 'dispersions', 'dispersions_norm', 'highly_variable'\n",
       "    uns: 'bulk_labels_colors', 'louvain', 'louvain_colors', 'neighbors', 'pca', 'rank_genes_groups'\n",
       "    obsm: 'X_pca', 'X_umap'\n",
       "    varm: 'PCs'\n",
       "    obsp: 'distances', 'connectivities'"
      ]
     },
     "execution_count": 5,
     "metadata": {},
     "output_type": "execute_result"
    }
   ],
   "source": [
    "adata"
   ]
  },
  {
   "cell_type": "code",
   "execution_count": 9,
   "id": "f0867095",
   "metadata": {},
   "outputs": [],
   "source": [
    "var_names = adata_ref.var_names.intersection(adata.var_names)\n",
    "adata_ref = adata_ref[:, var_names]\n",
    "adata = adata[:, var_names]"
   ]
  },
  {
   "cell_type": "code",
   "execution_count": null,
   "id": "197c36cb",
   "metadata": {},
   "outputs": [],
   "source": [
    "sc.pp.pca(adata_ref)\n",
    "sc.pp.neighbors(adata_ref)\n",
    "sc.tl.umap(adata_ref)"
   ]
  },
  {
   "cell_type": "code",
   "execution_count": null,
   "id": "3fb977c8",
   "metadata": {},
   "outputs": [],
   "source": [
    "sc.pl.umap(adata_ref, color='louvain')"
   ]
  },
  {
   "cell_type": "code",
   "execution_count": null,
   "id": "dc15ad49",
   "metadata": {},
   "outputs": [],
   "source": [
    "sc.tl.ingest(adata, adata_ref, obs='louvain')"
   ]
  },
  {
   "cell_type": "code",
   "execution_count": null,
   "id": "d47777a4",
   "metadata": {},
   "outputs": [],
   "source": [
    "adata.uns['louvain_colors'] = adata_ref.uns['louvain_colors']  # fix colors"
   ]
  },
  {
   "cell_type": "code",
   "execution_count": null,
   "id": "be3d6fa6",
   "metadata": {},
   "outputs": [],
   "source": [
    "sc.pl.umap(adata, color=['louvain', 'bulk_labels'], wspace=0.5)"
   ]
  },
  {
   "cell_type": "code",
   "execution_count": null,
   "id": "5dc574cd",
   "metadata": {},
   "outputs": [],
   "source": [
    "adata_concat = adata_ref.concatenate(adata, batch_categories=['ref', 'new'])"
   ]
  },
  {
   "cell_type": "code",
   "execution_count": null,
   "id": "5203868c",
   "metadata": {},
   "outputs": [],
   "source": [
    "adata_concat.obs.louvain = adata_concat.obs.louvain.astype('category')\n",
    "adata_concat.obs.louvain.cat.reorder_categories(adata_ref.obs.louvain.cat.categories, inplace=True)  # fix category ordering\n",
    "adata_concat.uns['louvain_colors'] = adata_ref.uns['louvain_colors']  # fix category colors"
   ]
  },
  {
   "cell_type": "code",
   "execution_count": null,
   "id": "327610f7",
   "metadata": {},
   "outputs": [],
   "source": [
    "sc.pl.umap(adata_concat, color=['batch', 'louvain'])"
   ]
  }
 ],
 "metadata": {
  "kernelspec": {
   "display_name": "Python 3 (ipykernel)",
   "language": "python",
   "name": "python3"
  },
  "language_info": {
   "codemirror_mode": {
    "name": "ipython",
    "version": 3
   },
   "file_extension": ".py",
   "mimetype": "text/x-python",
   "name": "python",
   "nbconvert_exporter": "python",
   "pygments_lexer": "ipython3",
   "version": "3.8.12"
  }
 },
 "nbformat": 4,
 "nbformat_minor": 5
}
