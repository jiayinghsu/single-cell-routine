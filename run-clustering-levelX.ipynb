{
 "cells": [
  {
   "cell_type": "code",
   "execution_count": null,
   "metadata": {
    "ExecuteTime": {
     "end_time": "2021-09-02T05:36:22.368735Z",
     "start_time": "2021-09-02T05:36:14.960188Z"
    }
   },
   "outputs": [],
   "source": [
    "from papermill import execute_notebook, PapermillExecutionError\n",
    "import pandas as pd\n",
    "from pathlib import Path\n",
    "import numpy as np"
   ]
  },
  {
   "cell_type": "code",
   "execution_count": null,
   "metadata": {
    "ExecuteTime": {
     "end_time": "2021-09-02T05:36:22.376542Z",
     "start_time": "2021-09-02T05:36:22.371223Z"
    },
    "tags": [
     "parameters"
    ]
   },
   "outputs": [],
   "source": [
    "step_notebooks = ['01-prepare-anndata.ipynb',\n",
    "                  '02-precluster-for-enriched-features.ipynb',\n",
    "                  '03-dimension-reduction.ipynb',\n",
    "                  '04-concensus-clustering.ipynb',\n",
    "                  '05-marker-identification.ipynb',\n",
    "                  '06-cluster-annotatoin.ipynb',\n",
    "                 ]\n",
    "step_prepare_only = [False,False,False,False,False,False]\n",
    "step_skip = [False,False,False,False,False,False]\n",
    "\n",
    "\n",
    "selection_dict = {}\n",
    "\n",
    "correct_batch_col = 'Donor'\n",
    "correct_method = 'harmony'\n",
    "\n",
    "# crucial parameters\n",
    "clustering_name = 'L1',\n",
    "# this parameter is the final target that limit the total number of clusters\n",
    "# Higher accuracy means more conservative clustering results and less number of clusters\n",
    "target_accuracy = 0.96,\n",
    "min_cluster_size = 20,\n",
    "n_neighbors = 25,\n",
    "leiden_resolution = 1,\n",
    "\n",
    "mc_type = 'CHN'\n",
    "\n",
    "top_n_markers = 200\n",
    "auroc_cutoff = 0.7\n",
    "adj_p_cutoff = 0.01\n",
    "fc_cutoff = 0.8\n",
    "\n",
    "\n",
    "mcds_path_list = []\n",
    "\n",
    "\n",
    "total_cell_meta_path = '~/test/cell_ori_meta.pdpkl'\n",
    "annotation_table_path = '~/cell_annotation_meta.pdpkl'\n",
    "\n",
    "\n",
    "\n",
    "study_dirn = '~/clustering-level1'\n",
    "template_dirn = '~/template/'\n",
    "\n",
    "auto_annot_prefix = ''\n",
    "\n",
    "old_annot_path = None\n",
    "\n",
    "plot_merge_steps = True"
   ]
  },
  {
   "cell_type": "code",
   "execution_count": null,
   "metadata": {
    "ExecuteTime": {
     "end_time": "2021-09-02T05:36:22.385987Z",
     "start_time": "2021-09-02T05:36:22.380608Z"
    },
    "code_folding": []
   },
   "outputs": [],
   "source": [
    "step_1_params = dict(\n",
    "    metadata_path = './CellMetadata.AfterQC.pdpkl',\n",
    "\n",
    "    mcds_path_list = mcds_path_list,\n",
    "\n",
    "    # Dimension name used to do clustering\n",
    "    obs_dim = 'cell',\n",
    "    var_dim = 'chrom100k',\n",
    "\n",
    "    min_cov = 250,\n",
    "    max_cov = 3000,\n",
    "\n",
    "    black_list_path = '~/refs/human/hg38/blacklist/hg38-blacklist.v2.bed.gz',\n",
    "    black_list_f = 0.2,\n",
    "\n",
    "    exclude_chromosome = ['chrM', 'chrY'],\n",
    ")\n"
   ]
  },
  {
   "cell_type": "code",
   "execution_count": null,
   "metadata": {
    "ExecuteTime": {
     "end_time": "2021-09-02T05:36:22.394689Z",
     "start_time": "2021-09-02T05:36:22.389459Z"
    },
    "code_folding": []
   },
   "outputs": [],
   "source": [
    "step_2_params = dict(\n",
    "    mch_adata_path = 'mCH.HVF.h5ad',\n",
    "    mcg_adata_path = 'mCG.HVF.h5ad',\n",
    "\n",
    "    # Cluster Enriched Features analysis\n",
    "    top_n_enriched_features=200,\n",
    "    alpha=0.05,\n",
    "    stat_plot=True,\n",
    "\n",
    "    # you may provide a pre calculated cluster version. \n",
    "    # If None, will perform basic clustering using parameters below.\n",
    "    cluster_col = None  ,\n",
    "\n",
    "    # These parameters only used when cluster_col is None\n",
    "    n_neighbors=n_neighbors ,\n",
    "    leiden_resolution=leiden_resolution ,\n",
    "    cluster_plot=True ,\n",
    "    min_cluster_size = min_cluster_size,\n",
    ")\n"
   ]
  },
  {
   "cell_type": "code",
   "execution_count": null,
   "metadata": {
    "ExecuteTime": {
     "end_time": "2021-09-02T05:36:22.403185Z",
     "start_time": "2021-09-02T05:36:22.397773Z"
    },
    "code_folding": []
   },
   "outputs": [],
   "source": [
    "step_3_params = dict(\n",
    "    metadata_path = './CellMetadata.AfterQC.pdpkl',\n",
    "\n",
    "    # HVF mC Fraction AnnData Files\n",
    "    ch_adata_path = 'mCH.HVF.h5ad',\n",
    "    cg_adata_path = 'mCG.HVF.h5ad',\n",
    "    \n",
    "    correct_batch_col = correct_batch_col,\n",
    "    correct_method = correct_method,\n",
    "\n",
    "    # use feature type\n",
    "    # HVF: all highly variable features\n",
    "    # CEF: cluster enriched features\n",
    "    feature_type = 'CEF' ,\n",
    "    pre_cluster_name = 'leiden',\n",
    "\n",
    "    # n_components\n",
    "    n_components = 'auto',  # if auto, will use Kolmogorov-Smirnov test to test the adjacent PCs and cut when P > p_cutoff\n",
    "    p_cutoff = 0.1,  # ks test p value cutoff, only apply when n_components == 'auto'\n",
    "\n",
    "    # downsample large clusters\n",
    "    max_cell_prop = 0.05,\n",
    "\n",
    "    interactive_downsample = 2000,\n",
    "    interactive_plot = False,\n",
    "    min_cluster_size = min_cluster_size,\n",
    ")"
   ]
  },
  {
   "cell_type": "code",
   "execution_count": null,
   "metadata": {
    "ExecuteTime": {
     "end_time": "2021-09-02T05:36:22.413101Z",
     "start_time": "2021-09-02T05:36:22.406269Z"
    },
    "code_folding": []
   },
   "outputs": [],
   "source": [
    "step_4_params = dict(\n",
    "    clustering_name = clustering_name,\n",
    "    # this parameter is the final target that limit the total number of clusters\n",
    "    # Higher accuracy means more conservative clustering results and less number of clusters\n",
    "    target_accuracy = target_accuracy,\n",
    "    min_cluster_size = min_cluster_size,\n",
    "    n_neighbors = n_neighbors,\n",
    "    leiden_resolution = leiden_resolution,\n",
    "\n",
    "    metadata_path = './CellMetadata.AfterQC.pdpkl',\n",
    "    adata_path = './adata.with_coords.h5ad',\n",
    "    coord_base = 'tsne',\n",
    "\n",
    "    # Other ConsensusClustering parameters\n",
    "    metric = 'euclidean',\n",
    "    consensus_rate = 0.7,\n",
    "    leiden_repeats = 500,\n",
    "    random_state = 0,\n",
    "    train_frac = 0.5,\n",
    "    train_max_n = 500,\n",
    "    max_iter = 50,\n",
    "    n_jobs = 40,\n",
    "\n",
    "    # Dendrogram via Multiscale Bootstrap Resampling\n",
    "    nboot = 10000,\n",
    "    method_dist = 'correlation',\n",
    "    method_hclust = 'average',\n",
    "\n",
    "    plot_type = 'static',\n",
    "    plot_merge_steps = plot_merge_steps,\n",
    ")\n"
   ]
  },
  {
   "cell_type": "code",
   "execution_count": null,
   "metadata": {
    "ExecuteTime": {
     "end_time": "2021-09-02T22:44:51.531193Z",
     "start_time": "2021-09-02T22:44:51.196800Z"
    },
    "code_folding": []
   },
   "outputs": [],
   "source": [
    "step_5_params = dict(\n",
    "    adata_path = './adata.with_coords.h5ad',\n",
    "    cluster_col = clustering_name,\n",
    "    mc_type = None,\n",
    "\n",
    "    top_n_markers = top_n_markers,\n",
    "    auroc_cutoff = auroc_cutoff,\n",
    "\n",
    "    adj_p_cutoff = adj_p_cutoff,\n",
    "\n",
    "    fc_cutoff = fc_cutoff,\n",
    "\n",
    "    max_cluster_cells = 2000,\n",
    "    max_other_fold = 5,\n",
    "\n",
    "    gene_annotation_path = '~/refs/human/hg38/gencode/v33/gencode.v33.basic.annotation.gene.flat.tsv.gz',\n",
    "    obs_dim = 'cell',\n",
    "    var_dim = 'gene',\n",
    "    chrom_to_remove = ['chrM'],\n",
    "\n",
    "    min_cov = 5,\n",
    "    min_cov_ratio = 0.002,\n",
    "    mcds_path_list = mcds_path_list,\n",
    ")"
   ]
  },
  {
   "cell_type": "code",
   "execution_count": null,
   "metadata": {
    "ExecuteTime": {
     "end_time": "2021-09-02T22:44:51.534935Z",
     "start_time": "2021-09-02T22:44:51.419Z"
    },
    "code_folding": []
   },
   "outputs": [],
   "source": [
    "step_6_params = dict(\n",
    "    cluster_col = clustering_name,\n",
    "    mc_type = mc_type,\n",
    "    metadata_path = './CellMetadata.AfterQC.pdpkl',\n",
    "    adata_path = './adata.with_coords.h5ad',\n",
    "\n",
    "\n",
    "    gene_annotation_path = '~/refs/human/hg38/gencode/v33/gencode.v33.basic.annotation.gene.flat.tsv.gz',\n",
    "    obs_dim = 'cell',\n",
    "    var_dim = 'gene',\n",
    "\n",
    "    plot_top_n_markers = 10,\n",
    "\n",
    "    n_samples = 20000,\n",
    "\n",
    "    mcds_path_list = mcds_path_list,\n",
    "    \n",
    "    old_annot_path = old_annot_path,\n",
    "\n",
    "    auto_annot_prefix = auto_annot_prefix,\n",
    ")\n"
   ]
  },
  {
   "cell_type": "code",
   "execution_count": null,
   "metadata": {
    "ExecuteTime": {
     "end_time": "2021-09-02T05:36:22.419756Z",
     "start_time": "2021-09-02T05:36:22.416013Z"
    }
   },
   "outputs": [],
   "source": [
    "step_params = [\n",
    "    step_1_params,\n",
    "    step_2_params,\n",
    "    step_3_params,\n",
    "    step_4_params,\n",
    "    step_5_params,\n",
    "    step_6_params,\n",
    "]"
   ]
  },
  {
   "cell_type": "code",
   "execution_count": null,
   "metadata": {},
   "outputs": [],
   "source": [
    "template_dir = Path(template_dirn)\n",
    "\n",
    "study_dir = Path(study_dirn)\n",
    "study_dir.mkdir(exist_ok=True)\n"
   ]
  },
  {
   "cell_type": "code",
   "execution_count": null,
   "metadata": {},
   "outputs": [],
   "source": [
    "total_cell_meta = pd.read_pickle(total_cell_meta_path)\n",
    "total_cell_meta = total_cell_meta[total_cell_meta['PassFilter']]\n",
    "cell_annotation = pd.read_pickle(annotation_table_path).reindex(total_cell_meta.index)\n"
   ]
  },
  {
   "cell_type": "code",
   "execution_count": null,
   "metadata": {},
   "outputs": [],
   "source": [
    "if len(selection_dict)==0:\n",
    "    judge = np.array([True]*len(total_cell_meta))\n",
    "else:\n",
    "    judge = []\n",
    "    for col, vals in selection_dict.items():\n",
    "        judge.append(cell_annotation[col].isin(vals))\n",
    "    judge = np.all(judge, axis=0)\n"
   ]
  },
  {
   "cell_type": "code",
   "execution_count": null,
   "metadata": {},
   "outputs": [],
   "source": [
    "# if judge==True:\n",
    "#     select_cell_meta = total_cell_meta\n",
    "# else:\n",
    "#     select_cell_meta = total_cell_meta[judge]\n",
    "select_cell_meta = total_cell_meta[judge]\n",
    "\n",
    "    \n",
    "cell_meta_path = study_dir / 'CellMetadata.AfterQC.pdpkl'\n",
    "select_cell_meta.to_pickle(cell_meta_path)"
   ]
  },
  {
   "cell_type": "code",
   "execution_count": null,
   "metadata": {},
   "outputs": [],
   "source": [
    "for notebook, prepare_only, skip, params in zip(step_notebooks, step_prepare_only, step_skip, step_params):\n",
    "    if skip:\n",
    "        print(f'{notebook} : skipped')\n",
    "    else:\n",
    "        execute_notebook(\n",
    "            str(template_dir/notebook),\n",
    "            str(study_dir/notebook),\n",
    "            parameters=params,\n",
    "            nest_asyncio=True,\n",
    "            engine_name=None,\n",
    "            prepare_only=prepare_only,\n",
    "            kernel_name=None,\n",
    "            progress_bar=True,\n",
    "            log_output=False,\n",
    "            start_timeout=60,\n",
    "            report_mode=False,\n",
    "            cwd=str(study_dir)\n",
    "        )\n",
    "        if prepare_only:\n",
    "            print(f'{notebook} : prepared')\n",
    "        else:\n",
    "            print(f'{notebook} : executed')\n"
   ]
  }
 ],
 "metadata": {
  "celltoolbar": "Tags",
  "kernelspec": {
   "display_name": "Python 3.10.6 64-bit",
   "language": "python",
   "name": "python3"
  },
  "language_info": {
   "codemirror_mode": {
    "name": "ipython",
    "version": 3
   },
   "file_extension": ".py",
   "mimetype": "text/x-python",
   "name": "python",
   "nbconvert_exporter": "python",
   "pygments_lexer": "ipython3",
   "version": "3.10.6"
  },
  "toc": {
   "base_numbering": 1,
   "nav_menu": {},
   "number_sections": true,
   "sideBar": true,
   "skip_h1_title": false,
   "title_cell": "Table of Contents",
   "title_sidebar": "Contents",
   "toc_cell": false,
   "toc_position": {},
   "toc_section_display": true,
   "toc_window_display": false
  },
  "vscode": {
   "interpreter": {
    "hash": "aee8b7b246df8f9039afb4144a1f6fd8d2ca17a180786b69acc140d282b71a49"
   }
  }
 },
 "nbformat": 4,
 "nbformat_minor": 4
}
