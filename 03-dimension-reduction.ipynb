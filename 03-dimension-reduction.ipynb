{
 "cells": [
  {
   "cell_type": "code",
   "execution_count": null,
   "metadata": {
    "ExecuteTime": {
     "end_time": "2021-09-03T07:19:47.563633Z",
     "start_time": "2021-09-03T07:19:28.786144Z"
    },
    "execution": {
     "iopub.execute_input": "2021-09-02T23:03:18.687135Z",
     "iopub.status.busy": "2021-09-02T23:03:18.686251Z",
     "iopub.status.idle": "2021-09-02T23:03:36.775204Z",
     "shell.execute_reply": "2021-09-02T23:03:36.776389Z"
    },
    "papermill": {
     "duration": 18.120058,
     "end_time": "2021-09-02T23:03:36.776706",
     "exception": false,
     "start_time": "2021-09-02T23:03:18.656648",
     "status": "completed"
    },
    "tags": []
   },
   "outputs": [],
   "source": [
    "import numpy as np\n",
    "import pandas as pd\n",
    "import seaborn as sns\n",
    "import matplotlib.pyplot as plt\n",
    "import scanpy as sc\n",
    "import anndata\n",
    "\n",
    "from ALLCools.clustering import tsne, balanced_pca, significant_pc_test, log_scale\n",
    "from ALLCools.plot import *\n",
    "\n",
    "import scanorama as scrm\n",
    "\n",
    "from harmonypy import run_harmony"
   ]
  },
  {
   "cell_type": "code",
   "execution_count": null,
   "metadata": {
    "ExecuteTime": {
     "end_time": "2021-09-03T07:19:47.576040Z",
     "start_time": "2021-09-03T07:19:47.569093Z"
    },
    "execution": {
     "iopub.execute_input": "2021-09-02T23:03:36.825908Z",
     "iopub.status.busy": "2021-09-02T23:03:36.825164Z",
     "iopub.status.idle": "2021-09-02T23:03:36.827729Z",
     "shell.execute_reply": "2021-09-02T23:03:36.827207Z"
    },
    "papermill": {
     "duration": 0.024835,
     "end_time": "2021-09-02T23:03:36.827835",
     "exception": false,
     "start_time": "2021-09-02T23:03:36.803000",
     "status": "completed"
    },
    "tags": [
     "parameters"
    ]
   },
   "outputs": [],
   "source": [
    "# cell metadata path\n",
    "metadata_path = './CellMetadata.AfterQC.pdpkl'\n",
    "\n",
    "# HVF mC Fraction AnnData Files\n",
    "ch_adata_path = 'mCH.HVF.h5ad'\n",
    "cg_adata_path = 'mCG.HVF.h5ad'\n",
    "\n",
    "correct_batch_col = 'Donor'\n",
    "correct_method = 'harmony'\n",
    "\n",
    "# use feature type\n",
    "# HVF: all highly variable features\n",
    "# CEF: cluster enriched features\n",
    "feature_type = 'CEF' \n",
    "pre_cluster_name = 'leiden'\n",
    "\n",
    "# n_components\n",
    "n_components = 'auto'  # if auto, will use Kolmogorov-Smirnov test to test the adjacent PCs and cut when P > p_cutoff\n",
    "p_cutoff = 0.1  # ks test p value cutoff, only apply when n_components == 'auto'\n",
    "\n",
    "# downsample large clusters\n",
    "max_cell_prop = 0.05\n",
    "\n",
    "interactive_downsample = 2000\n",
    "interactive_plot = False\n",
    "\n",
    "min_cluster_size = 25\n"
   ]
  },
  {
   "cell_type": "code",
   "execution_count": null,
   "metadata": {
    "ExecuteTime": {
     "end_time": "2021-09-03T07:19:50.692708Z",
     "start_time": "2021-09-03T07:19:47.579874Z"
    },
    "execution": {
     "iopub.execute_input": "2021-09-02T23:03:36.861454Z",
     "iopub.status.busy": "2021-09-02T23:03:36.860595Z",
     "iopub.status.idle": "2021-09-02T23:03:40.073883Z",
     "shell.execute_reply": "2021-09-02T23:03:40.073367Z"
    },
    "papermill": {
     "duration": 3.232654,
     "end_time": "2021-09-02T23:03:40.074036",
     "exception": false,
     "start_time": "2021-09-02T23:03:36.841382",
     "status": "completed"
    },
    "tags": []
   },
   "outputs": [],
   "source": [
    "metadata = pd.read_pickle(metadata_path)\n",
    "ch_adata = anndata.read_h5ad(ch_adata_path)\n",
    "cg_adata = anndata.read_h5ad(cg_adata_path)\n",
    "if feature_type == 'CEF':\n",
    "    print('Using Cluster Enriched Features')\n",
    "    ch_adata = ch_adata[:, ch_adata.var[f'{pre_cluster_name}_enriched_features']].copy()\n",
    "    cg_adata = cg_adata[:, cg_adata.var[f'{pre_cluster_name}_enriched_features']].copy()"
   ]
  },
  {
   "cell_type": "code",
   "execution_count": null,
   "metadata": {
    "ExecuteTime": {
     "end_time": "2021-09-03T07:19:50.932071Z",
     "start_time": "2021-09-03T07:19:50.694820Z"
    },
    "execution": {
     "iopub.execute_input": "2021-09-02T23:03:40.121273Z",
     "iopub.status.busy": "2021-09-02T23:03:40.120183Z",
     "iopub.status.idle": "2021-09-02T23:03:40.347840Z",
     "shell.execute_reply": "2021-09-02T23:03:40.347293Z"
    },
    "papermill": {
     "duration": 0.252162,
     "end_time": "2021-09-02T23:03:40.347980",
     "exception": false,
     "start_time": "2021-09-02T23:03:40.095818",
     "status": "completed"
    },
    "tags": []
   },
   "outputs": [],
   "source": [
    "log_scale(ch_adata)\n",
    "\n",
    "log_scale(cg_adata)"
   ]
  },
  {
   "cell_type": "markdown",
   "metadata": {},
   "source": [
    " scanorama correction: not working in some cases"
   ]
  },
  {
   "cell_type": "code",
   "execution_count": null,
   "metadata": {},
   "outputs": [],
   "source": [
    "if correct_method != 'harmony':\n",
    "    if correct_batch_col is not None:\n",
    "        ch_adatas = [ ch_adata[ch_adata.obs_names.isin(x.index)].copy() for _,x in metadata.groupby(correct_batch_col) ]\n",
    "        # corrected = scrm.correct([x.obsm['X_pca'] for x in ch_adatas], [np.arange(ch_n_components) for x in ch_adatas], dimred=-1)\n",
    "        for x in ch_adatas:\n",
    "            sc.pp.scale(x)\n",
    "        corrected,_ = scrm.correct([x.X for x in ch_adatas], [np.arange(ch_adata.shape[1]) for x in ch_adatas])\n",
    "\n",
    "        for x,y in zip(ch_adatas, corrected):\n",
    "            x.X = y.todense()\n",
    "\n",
    "        ch_adata = ch_adatas[0].concatenate(ch_adatas[1:], index_unique=None)[ch_adatas[0].obs_names]"
   ]
  },
  {
   "cell_type": "code",
   "execution_count": null,
   "metadata": {},
   "outputs": [],
   "source": [
    "if correct_method != 'harmony':\n",
    "    n_comps = min(len(ch_adata)//min_cluster_size*min_cluster_size,\n",
    "                  len(ch_adata)-2,\n",
    "                  200)\n",
    "    while True:\n",
    "        try:\n",
    "            balanced_pca(ch_adata, groups=pre_cluster_name, n_comps=n_comps)\n",
    "            sc.pl.pca_variance_ratio(ch_adata)\n",
    "            ch_n_components = significant_pc_test(ch_adata, p_cutoff=p_cutoff)\n",
    "            break\n",
    "        except:\n",
    "            n_comps-=2\n",
    "        "
   ]
  },
  {
   "cell_type": "markdown",
   "metadata": {
    "ExecuteTime": {
     "end_time": "2021-09-03T07:20:10.640485Z",
     "start_time": "2021-09-03T07:20:07.897433Z"
    },
    "execution": {
     "iopub.execute_input": "2021-09-02T23:03:40.389369Z",
     "iopub.status.busy": "2021-09-02T23:03:40.388113Z",
     "iopub.status.idle": "2021-09-02T23:03:43.148861Z",
     "shell.execute_reply": "2021-09-02T23:03:43.147664Z"
    },
    "papermill": {
     "duration": 2.784725,
     "end_time": "2021-09-02T23:03:43.149138",
     "exception": false,
     "start_time": "2021-09-02T23:03:40.364413",
     "status": "completed"
    },
    "tags": []
   },
   "source": [
    " harmonypy correction"
   ]
  },
  {
   "cell_type": "code",
   "execution_count": null,
   "metadata": {},
   "outputs": [],
   "source": [
    "if correct_method == 'harmony':\n",
    "    if correct_batch_col is not None:\n",
    "        ch_adata.obs[correct_batch_col] = metadata[correct_batch_col]\n",
    "        try:\n",
    "            ho = run_harmony(ch_adata.obsm['X_pca'],\n",
    "                         meta_data=ch_adata.obs,\n",
    "                         vars_use=correct_batch_col,\n",
    "                         random_state=0,\n",
    "                         nclust=15,\n",
    "                         max_iter_harmony=50)\n",
    "        except:\n",
    "            ho = run_harmony(ch_adata.obsm['X_pca'],\n",
    "                         meta_data=ch_adata.obs,\n",
    "                         vars_use=correct_batch_col,\n",
    "                         random_state=0,\n",
    "                         nclust=10,\n",
    "                         max_iter_harmony=50)\n",
    "\n",
    "        ch_adata.obsm['X_pca'] = ho.Z_corr.T"
   ]
  },
  {
   "cell_type": "code",
   "execution_count": null,
   "metadata": {},
   "outputs": [],
   "source": [
    "if correct_method == 'harmony':\n",
    "    ch_n_components = significant_pc_test(ch_adata, p_cutoff=p_cutoff)"
   ]
  },
  {
   "cell_type": "code",
   "execution_count": null,
   "metadata": {
    "ExecuteTime": {
     "end_time": "2021-09-03T07:20:12.550415Z",
     "start_time": "2021-09-03T07:20:10.642119Z"
    },
    "execution": {
     "iopub.execute_input": "2021-09-02T23:03:43.235059Z",
     "iopub.status.busy": "2021-09-02T23:03:43.214526Z",
     "iopub.status.idle": "2021-09-02T23:03:44.756189Z",
     "shell.execute_reply": "2021-09-02T23:03:44.756675Z"
    },
    "papermill": {
     "duration": 1.577809,
     "end_time": "2021-09-02T23:03:44.756829",
     "exception": false,
     "start_time": "2021-09-02T23:03:43.179020",
     "status": "completed"
    },
    "tags": []
   },
   "outputs": [],
   "source": [
    "hue = 'mCHFrac'\n",
    "if hue in metadata.columns:\n",
    "    ch_adata.obs[hue] = metadata[hue].reindex(ch_adata.obs_names)\n",
    "    fig, axes = plot_decomp_scatters(ch_adata,\n",
    "                                     n_components=ch_n_components,\n",
    "                                     hue=hue,\n",
    "                                     hue_quantile=(0.25, 0.75),\n",
    "                                     nrows=5,\n",
    "                                     ncols=5)"
   ]
  },
  {
   "cell_type": "markdown",
   "metadata": {},
   "source": [
    " scanorama correction: not working in some cases"
   ]
  },
  {
   "cell_type": "code",
   "execution_count": null,
   "metadata": {
    "ExecuteTime": {
     "end_time": "2021-09-03T07:20:24.525854Z",
     "start_time": "2021-09-03T07:20:12.552605Z"
    }
   },
   "outputs": [],
   "source": [
    "if correct_method != 'harmony':\n",
    "    if correct_batch_col is not None:\n",
    "        cg_adatas = [ cg_adata[cg_adata.obs_names.isin(x.index)].copy() for _,x in metadata.groupby(correct_batch_col) ]\n",
    "        # corrected = scrm.correct([x.obsm['X_pca'] for x in cg_adatas], [np.arange(cg_n_components) for x in cg_adatas], dimred=-1)\n",
    "        for x in cg_adatas:\n",
    "            sc.pp.scale(x)\n",
    "        corrected,_ = scrm.correct([x.X for x in cg_adatas], [np.arange(cg_adata.shape[1]) for x in cg_adatas])\n",
    "\n",
    "        for x,y in zip(cg_adatas, corrected):\n",
    "            x.X = y.todense()\n",
    "\n",
    "        cg_adata = cg_adatas[0].concatenate(cg_adatas[1:], index_unique=None)[cg_adatas[0].obs_names]"
   ]
  },
  {
   "cell_type": "code",
   "execution_count": null,
   "metadata": {
    "ExecuteTime": {
     "end_time": "2021-09-03T07:20:27.656112Z",
     "start_time": "2021-09-03T07:20:24.527596Z"
    },
    "execution": {
     "iopub.execute_input": "2021-09-02T23:03:44.817951Z",
     "iopub.status.busy": "2021-09-02T23:03:44.816793Z",
     "iopub.status.idle": "2021-09-02T23:03:48.135974Z",
     "shell.execute_reply": "2021-09-02T23:03:48.134776Z"
    },
    "papermill": {
     "duration": 3.351473,
     "end_time": "2021-09-02T23:03:48.136246",
     "exception": false,
     "start_time": "2021-09-02T23:03:44.784773",
     "status": "completed"
    },
    "tags": []
   },
   "outputs": [],
   "source": [
    "if correct_method != 'harmony':\n",
    "    n_comps = min(len(cg_adata)//min_cluster_size*min_cluster_size,\n",
    "                  len(cg_adata)-2,\n",
    "                  200)\n",
    "    while True:\n",
    "        try:\n",
    "            balanced_pca(cg_adata, groups=pre_cluster_name, n_comps=n_comps)\n",
    "            sc.pl.pca_variance_ratio(cg_adata)\n",
    "            cg_n_components = significant_pc_test(cg_adata, p_cutoff=p_cutoff)\n",
    "            break\n",
    "        except:\n",
    "            n_comps-=2"
   ]
  },
  {
   "cell_type": "markdown",
   "metadata": {},
   "source": [
    " harmonypy correction"
   ]
  },
  {
   "cell_type": "code",
   "execution_count": null,
   "metadata": {},
   "outputs": [],
   "source": [
    "if correct_method == 'harmony':\n",
    "    if correct_batch_col is not None:\n",
    "        cg_adata.obs[correct_batch_col] = metadata[correct_batch_col]\n",
    "        try:\n",
    "            ho = run_harmony(cg_adata.obsm['X_pca'],\n",
    "                         meta_data=cg_adata.obs,\n",
    "                         vars_use=correct_batch_col,\n",
    "                         random_state=0,\n",
    "                         nclust=15,\n",
    "                         max_iter_harmony=50)\n",
    "        except:\n",
    "            ho = run_harmony(cg_adata.obsm['X_pca'],\n",
    "                         meta_data=cg_adata.obs,\n",
    "                         vars_use=correct_batch_col,\n",
    "                         random_state=0,\n",
    "                         nclust=10,\n",
    "                         max_iter_harmony=50)\n",
    "\n",
    "        cg_adata.obsm['X_pca'] = ho.Z_corr.T"
   ]
  },
  {
   "cell_type": "code",
   "execution_count": null,
   "metadata": {},
   "outputs": [],
   "source": [
    "if correct_method == 'harmony':\n",
    "    cg_n_components = significant_pc_test(cg_adata, p_cutoff=p_cutoff)"
   ]
  },
  {
   "cell_type": "code",
   "execution_count": null,
   "metadata": {
    "ExecuteTime": {
     "end_time": "2021-09-03T07:20:28.827990Z",
     "start_time": "2021-09-03T07:20:27.658038Z"
    },
    "execution": {
     "iopub.execute_input": "2021-09-02T23:03:48.273626Z",
     "iopub.status.busy": "2021-09-02T23:03:48.261054Z",
     "iopub.status.idle": "2021-09-02T23:03:49.395589Z",
     "shell.execute_reply": "2021-09-02T23:03:49.396086Z"
    },
    "papermill": {
     "duration": 1.223906,
     "end_time": "2021-09-02T23:03:49.396236",
     "exception": false,
     "start_time": "2021-09-02T23:03:48.172330",
     "status": "completed"
    },
    "tags": []
   },
   "outputs": [],
   "source": [
    "hue = 'mCGFrac'\n",
    "if hue in metadata.columns:\n",
    "    cg_adata.obs[hue] = metadata[hue].reindex(cg_adata.obs_names)\n",
    "    fig, axes = plot_decomp_scatters(cg_adata,\n",
    "                                     n_components=cg_n_components,\n",
    "                                     hue=hue,\n",
    "                                     hue_quantile=(0.25, 0.75),\n",
    "                                     nrows=5,\n",
    "                                     ncols=5)"
   ]
  },
  {
   "cell_type": "code",
   "execution_count": null,
   "metadata": {
    "ExecuteTime": {
     "end_time": "2021-09-03T07:24:23.076457Z",
     "start_time": "2021-09-03T07:24:23.067677Z"
    },
    "execution": {
     "iopub.execute_input": "2021-09-02T23:03:49.487307Z",
     "iopub.status.busy": "2021-09-02T23:03:49.486158Z",
     "iopub.status.idle": "2021-09-02T23:03:49.490039Z",
     "shell.execute_reply": "2021-09-02T23:03:49.490963Z"
    },
    "papermill": {
     "duration": 0.051869,
     "end_time": "2021-09-02T23:03:49.491258",
     "exception": false,
     "start_time": "2021-09-02T23:03:49.439389",
     "status": "completed"
    },
    "tags": []
   },
   "outputs": [],
   "source": [
    "ch_pcs = ch_adata.obsm['X_pca'][:, :ch_n_components]\n",
    "cg_pcs = cg_adata.obsm['X_pca'][:, :cg_n_components]\n",
    "\n",
    "# scale the PCs so CH and CG PCs has the same total var\n",
    "cg_pcs = cg_pcs / cg_pcs.std()\n",
    "ch_pcs = ch_pcs / ch_pcs.std()\n",
    "\n",
    "# total_pcs\n",
    "total_pcs = np.hstack([ch_pcs, cg_pcs])"
   ]
  },
  {
   "cell_type": "code",
   "execution_count": null,
   "metadata": {
    "ExecuteTime": {
     "end_time": "2021-09-03T07:24:24.155083Z",
     "start_time": "2021-09-03T07:24:24.132113Z"
    },
    "execution": {
     "iopub.execute_input": "2021-09-02T23:03:49.580523Z",
     "iopub.status.busy": "2021-09-02T23:03:49.579367Z",
     "iopub.status.idle": "2021-09-02T23:03:49.609034Z",
     "shell.execute_reply": "2021-09-02T23:03:49.607801Z"
    },
    "papermill": {
     "duration": 0.072827,
     "end_time": "2021-09-02T23:03:49.609310",
     "exception": false,
     "start_time": "2021-09-02T23:03:49.536483",
     "status": "completed"
    },
    "tags": []
   },
   "outputs": [],
   "source": [
    "# make a copy of adata, add new pcs\n",
    "# this is suboptimal, will change this when adata can combine layer and X in the future\n",
    "adata = ch_adata.copy()\n",
    "adata.obsm['X_pca'] = total_pcs\n",
    "del adata.uns['pca']\n",
    "if correct_method != 'harmony':\n",
    "    del adata.varm['PCs']"
   ]
  },
  {
   "cell_type": "code",
   "execution_count": null,
   "metadata": {
    "ExecuteTime": {
     "end_time": "2021-09-03T07:25:32.364605Z",
     "start_time": "2021-09-03T07:25:32.357920Z"
    },
    "execution": {
     "iopub.execute_input": "2021-09-02T23:03:49.701578Z",
     "iopub.status.busy": "2021-09-02T23:03:49.700829Z",
     "iopub.status.idle": "2021-09-02T23:03:49.705498Z",
     "shell.execute_reply": "2021-09-02T23:03:49.706067Z"
    },
    "papermill": {
     "duration": 0.053326,
     "end_time": "2021-09-02T23:03:49.706253",
     "exception": false,
     "start_time": "2021-09-02T23:03:49.652927",
     "status": "completed"
    },
    "tags": []
   },
   "outputs": [],
   "source": [
    "def dump_embedding(adata, name, n_dim=2):\n",
    "    # put manifold coordinates into adata.obs\n",
    "    for i in range(n_dim):\n",
    "        adata.obs[f'{name}_{i}'] = adata.obsm[f'X_{name}'][:, i]\n",
    "    return adata"
   ]
  },
  {
   "cell_type": "code",
   "execution_count": null,
   "metadata": {
    "ExecuteTime": {
     "end_time": "2021-09-03T07:26:41.020225Z",
     "start_time": "2021-09-03T07:25:34.439120Z"
    },
    "execution": {
     "iopub.execute_input": "2021-09-02T23:03:49.821224Z",
     "iopub.status.busy": "2021-09-02T23:03:49.820055Z",
     "iopub.status.idle": "2021-09-02T23:04:56.409024Z",
     "shell.execute_reply": "2021-09-02T23:04:56.410174Z"
    },
    "papermill": {
     "duration": 66.647697,
     "end_time": "2021-09-02T23:04:56.410486",
     "exception": false,
     "start_time": "2021-09-02T23:03:49.762789",
     "status": "completed"
    },
    "tags": []
   },
   "outputs": [],
   "source": [
    "tsne(adata,\n",
    "     obsm='X_pca',\n",
    "     metric='euclidean',\n",
    "     exaggeration=-1,  # auto determined\n",
    "     perplexity=30,\n",
    "     n_jobs=-1)\n",
    "dump_embedding(adata, 'tsne')"
   ]
  },
  {
   "cell_type": "code",
   "execution_count": null,
   "metadata": {
    "ExecuteTime": {
     "end_time": "2021-09-03T07:26:41.464488Z",
     "start_time": "2021-09-03T07:26:41.022236Z"
    }
   },
   "outputs": [],
   "source": [
    "fig, ax = plt.subplots(figsize=(4, 4), dpi=250)\n",
    "_ = categorical_scatter(data=adata.obs, ax=ax, coord_base='tsne', hue=pre_cluster_name, show_legend=True)"
   ]
  },
  {
   "cell_type": "code",
   "execution_count": null,
   "metadata": {},
   "outputs": [],
   "source": [
    "if correct_batch_col is not None:\n",
    "    adata.obs[correct_batch_col] = metadata[correct_batch_col]\n",
    "    fig, ax = plt.subplots(figsize=(4, 4), dpi=250)\n",
    "    _ = categorical_scatter(data=adata.obs, ax=ax, coord_base='tsne', hue=correct_batch_col, show_legend=True)"
   ]
  },
  {
   "cell_type": "code",
   "execution_count": null,
   "metadata": {
    "ExecuteTime": {
     "end_time": "2021-09-03T07:31:17.892607Z",
     "start_time": "2021-09-03T07:30:53.264717Z"
    },
    "execution": {
     "iopub.execute_input": "2021-09-02T23:04:57.091930Z",
     "iopub.status.busy": "2021-09-02T23:04:57.089510Z",
     "iopub.status.idle": "2021-09-02T23:05:21.878569Z",
     "shell.execute_reply": "2021-09-02T23:05:21.877403Z"
    },
    "papermill": {
     "duration": 24.844213,
     "end_time": "2021-09-02T23:05:21.878830",
     "exception": false,
     "start_time": "2021-09-02T23:04:57.034617",
     "status": "completed"
    },
    "tags": []
   },
   "outputs": [],
   "source": [
    "sc.pp.neighbors(adata)\n",
    "try:\n",
    "    sc.tl.paga(adata, groups=pre_cluster_name)\n",
    "    sc.pl.paga(adata, plot=False)\n",
    "    sc.tl.umap(adata, init_pos='paga')\n",
    "except:\n",
    "    sc.tl.umap(adata)\n",
    "dump_embedding(adata, 'umap')"
   ]
  },
  {
   "cell_type": "code",
   "execution_count": null,
   "metadata": {
    "ExecuteTime": {
     "end_time": "2021-09-03T07:31:18.315338Z",
     "start_time": "2021-09-03T07:31:17.894508Z"
    },
    "execution": {
     "iopub.execute_input": "2021-09-02T23:05:21.997394Z",
     "iopub.status.busy": "2021-09-02T23:05:21.983444Z",
     "iopub.status.idle": "2021-09-02T23:05:22.405100Z",
     "shell.execute_reply": "2021-09-02T23:05:22.405605Z"
    },
    "papermill": {
     "duration": 0.476032,
     "end_time": "2021-09-02T23:05:22.405760",
     "exception": false,
     "start_time": "2021-09-02T23:05:21.929728",
     "status": "completed"
    },
    "tags": []
   },
   "outputs": [],
   "source": [
    "# fig, ax = plt.subplots(figsize=(4, 4), dpi=250)\n",
    "# _ = categorical_scatter(data=adata.obs, ax=ax, coord_base='umap', hue=pre_cluster_name, show_legend=True)"
   ]
  },
  {
   "cell_type": "code",
   "execution_count": null,
   "metadata": {
    "ExecuteTime": {
     "end_time": "2021-09-01T21:00:05.920437Z",
     "start_time": "2021-09-01T21:00:05.754890Z"
    },
    "execution": {
     "iopub.execute_input": "2021-09-02T23:05:22.514775Z",
     "iopub.status.busy": "2021-09-02T23:05:22.513546Z",
     "iopub.status.idle": "2021-09-02T23:05:22.517012Z",
     "shell.execute_reply": "2021-09-02T23:05:22.518126Z"
    },
    "papermill": {
     "duration": 0.059254,
     "end_time": "2021-09-02T23:05:22.518412",
     "exception": false,
     "start_time": "2021-09-02T23:05:22.459158",
     "status": "completed"
    },
    "tags": []
   },
   "outputs": [],
   "source": [
    "if interactive_plot:\n",
    "    if len(adata)>interactive_downsample:\n",
    "        obs = adata.obs.sample(interactive_downsample)\n",
    "    else:\n",
    "        obs = adata.obs\n",
    "\n",
    "    interactive_scatter(data=obs,\n",
    "                        hue=pre_cluster_name,\n",
    "                        coord_base='umap')"
   ]
  },
  {
   "cell_type": "code",
   "execution_count": null,
   "metadata": {
    "ExecuteTime": {
     "end_time": "2021-09-01T20:56:55.602279Z",
     "start_time": "2021-09-01T20:56:55.455825Z"
    },
    "execution": {
     "iopub.execute_input": "2021-09-02T23:05:22.674530Z",
     "iopub.status.busy": "2021-09-02T23:05:22.673788Z",
     "iopub.status.idle": "2021-09-02T23:05:22.842497Z",
     "shell.execute_reply": "2021-09-02T23:05:22.843648Z"
    },
    "papermill": {
     "duration": 0.266517,
     "end_time": "2021-09-02T23:05:22.844011",
     "exception": false,
     "start_time": "2021-09-02T23:05:22.577494",
     "status": "completed"
    },
    "tags": []
   },
   "outputs": [],
   "source": [
    "adata.write_h5ad(f'adata.with_coords.h5ad')\n",
    "adata"
   ]
  }
 ],
 "metadata": {
  "celltoolbar": "Tags",
  "kernelspec": {
   "display_name": "Python 3 (ipykernel)",
   "language": "python",
   "name": "python3"
  },
  "language_info": {
   "codemirror_mode": {
    "name": "ipython",
    "version": 3
   },
   "file_extension": ".py",
   "mimetype": "text/x-python",
   "name": "python",
   "nbconvert_exporter": "python",
   "pygments_lexer": "ipython3",
   "version": "3.9.5"
  },
  "papermill": {
   "default_parameters": {},
   "duration": 128.088016,
   "end_time": "2021-09-02T23:05:25.122828",
   "environment_variables": {},
   "exception": null,
   "input_path": "/gale/netapp/home/wtian/hba/clustering2/210901/template/03-dimension-reduction.ipynb",
   "output_path": "/gale/ddn/human_brain_atlas/clustering2/210901/clustering-level1/03-dimension-reduction.ipynb",
   "parameters": {
    "cg_adata_path": "mCG.HVF.h5ad",
    "ch_adata_path": "mCH.HVF.h5ad",
    "feature_type": "CEF",
    "interactive_downsample": 2000,
    "interactive_plot": false,
    "max_cell_prop": 0.05,
    "metadata_path": "./CellMetadata.AfterQC.pdpkl",
    "n_components": "auto",
    "p_cutoff": 0.1,
    "pre_cluster_name": "leiden"
   },
   "start_time": "2021-09-02T23:03:17.034812",
   "version": "2.2.0"
  },
  "toc": {
   "base_numbering": 1,
   "nav_menu": {},
   "number_sections": true,
   "sideBar": true,
   "skip_h1_title": false,
   "title_cell": "Table of Contents",
   "title_sidebar": "Contents",
   "toc_cell": false,
   "toc_position": {},
   "toc_section_display": true,
   "toc_window_display": false
  }
 },
 "nbformat": 4,
 "nbformat_minor": 4
}
