{
 "cells": [
  {
   "cell_type": "code",
   "execution_count": null,
   "metadata": {
    "ExecuteTime": {
     "end_time": "2021-09-01T20:52:10.567348Z",
     "start_time": "2021-09-01T20:51:51.227325Z"
    }
   },
   "outputs": [],
   "source": [
    "import seaborn as sns\n",
    "import anndata\n",
    "import scanpy as sc\n",
    "from ALLCools.clustering import cluster_enriched_features, significant_pc_test, log_scale\n"
   ]
  },
  {
   "cell_type": "code",
   "execution_count": null,
   "metadata": {
    "ExecuteTime": {
     "end_time": "2021-09-01T20:52:10.730026Z",
     "start_time": "2021-09-01T20:52:10.726844Z"
    },
    "tags": [
     "parameters"
    ]
   },
   "outputs": [],
   "source": [
    "mch_adata_path = 'mCH.HVF.h5ad'\n",
    "mcg_adata_path = 'mCG.HVF.h5ad'\n",
    "\n",
    "# Cluster Enriched Features analysis\n",
    "top_n_enriched_features=200\n",
    "alpha=0.05\n",
    "stat_plot=True\n",
    "\n",
    "# you may provide a pre calculated cluster version. \n",
    "# If None, will perform basic clustering using parameters below.\n",
    "cluster_col = None  \n",
    "\n",
    "# These parameters only used when cluster_col is None\n",
    "n_neighbors=25\n",
    "leiden_resolution=1\n",
    "min_cluster_size = 25\n",
    "cluster_plot=True"
   ]
  },
  {
   "cell_type": "code",
   "execution_count": null,
   "metadata": {
    "ExecuteTime": {
     "end_time": "2021-09-01T20:52:11.638826Z",
     "start_time": "2021-09-01T20:52:10.731729Z"
    }
   },
   "outputs": [],
   "source": [
    "mch_adata = anndata.read_h5ad(mch_adata_path)\n",
    "mcg_adata = anndata.read_h5ad(mcg_adata_path)\n"
   ]
  },
  {
   "cell_type": "code",
   "execution_count": null,
   "metadata": {
    "ExecuteTime": {
     "end_time": "2021-09-01T20:52:39.132113Z",
     "start_time": "2021-09-01T20:52:11.640861Z"
    }
   },
   "outputs": [],
   "source": [
    "if cluster_col is None:\n",
    "    # IMPORTANT\n",
    "    # put the unscaled matrix in mch_adata.raw\n",
    "    mch_adata.raw = mch_adata\n",
    "    mcg_adata.raw = mcg_adata\n",
    "    \n",
    "    log_scale(mch_adata)\n",
    "    log_scale(mcg_adata)\n",
    "    \n",
    "    sc.tl.pca(mch_adata, n_comps=min(100, len(mch_adata)//min_cluster_size*min_cluster_size, len(mcg_adata)-1))\n",
    "    sc.tl.pca(mcg_adata, n_comps=min(100, len(mcg_adata)//min_cluster_size*min_cluster_size, len(mcg_adata)-1))\n",
    "    significant_pc_test(mch_adata, p_cutoff=0.1, update=True)\n",
    "    significant_pc_test(mcg_adata, p_cutoff=0.1, update=True)\n",
    "    \n",
    "    sc.pp.neighbors(mch_adata, n_neighbors=n_neighbors)\n",
    "    sc.pp.neighbors(mcg_adata, n_neighbors=n_neighbors)\n",
    "    sc.tl.leiden(mch_adata, resolution=leiden_resolution)\n",
    "    sc.tl.leiden(mcg_adata, resolution=leiden_resolution)\n",
    "    \n",
    "    if cluster_plot:\n",
    "        sc.tl.umap(mch_adata)\n",
    "        sc.pl.umap(mch_adata, color='leiden', title='mch')\n",
    "        sc.tl.umap(mcg_adata)\n",
    "        sc.pl.umap(mcg_adata, color='leiden', title='mcg')\n",
    "    \n",
    "    # return to unscaled X, CEF need to use the unscaled matrix\n",
    "    mch_adata = mch_adata.raw.to_adata()\n",
    "    mcg_adata = mcg_adata.raw.to_adata()\n",
    "    \n",
    "    cluster_col = 'leiden'"
   ]
  },
  {
   "cell_type": "code",
   "execution_count": null,
   "metadata": {
    "ExecuteTime": {
     "end_time": "2021-09-01T20:52:51.056203Z",
     "start_time": "2021-09-01T20:52:39.140668Z"
    }
   },
   "outputs": [],
   "source": [
    "cluster_enriched_features(mch_adata,\n",
    "                          cluster_col=cluster_col,\n",
    "                          top_n=top_n_enriched_features,\n",
    "                          alpha=alpha,\n",
    "                          stat_plot=False)\n",
    "cluster_enriched_features(mcg_adata,\n",
    "                          cluster_col=cluster_col,\n",
    "                          top_n=top_n_enriched_features,\n",
    "                          alpha=alpha,\n",
    "                          stat_plot=False)"
   ]
  },
  {
   "cell_type": "code",
   "execution_count": null,
   "metadata": {
    "ExecuteTime": {
     "end_time": "2021-09-01T20:53:38.208560Z",
     "start_time": "2021-09-01T20:53:37.865769Z"
    }
   },
   "outputs": [],
   "source": [
    "# save adata\n",
    "mch_adata.write_h5ad(mch_adata_path)\n",
    "mcg_adata.write_h5ad(mcg_adata_path)\n"
   ]
  }
 ],
 "metadata": {
  "celltoolbar": "Tags",
  "kernelspec": {
   "display_name": "Python 3 (ipykernel)",
   "language": "python",
   "name": "python3"
  },
  "language_info": {
   "codemirror_mode": {
    "name": "ipython",
    "version": 3
   },
   "file_extension": ".py",
   "mimetype": "text/x-python",
   "name": "python",
   "nbconvert_exporter": "python",
   "pygments_lexer": "ipython3",
   "version": "3.9.5"
  },
  "toc": {
   "base_numbering": 1,
   "nav_menu": {},
   "number_sections": true,
   "sideBar": true,
   "skip_h1_title": false,
   "title_cell": "Table of Contents",
   "title_sidebar": "Contents",
   "toc_cell": false,
   "toc_position": {},
   "toc_section_display": true,
   "toc_window_display": false
  }
 },
 "nbformat": 4,
 "nbformat_minor": 4
}
