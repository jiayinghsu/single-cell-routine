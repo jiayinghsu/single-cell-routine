{
 "cells": [
  {
   "cell_type": "code",
   "execution_count": null,
   "id": "9a503619",
   "metadata": {
    "ExecuteTime": {
     "end_time": "2022-03-03T21:38:26.844240Z",
     "start_time": "2022-03-03T21:38:26.795844Z"
    },
    "execution": {
     "iopub.execute_input": "2022-03-03T20:22:23.450394Z",
     "iopub.status.busy": "2022-03-03T20:22:23.450007Z",
     "iopub.status.idle": "2022-03-03T20:22:29.330771Z",
     "shell.execute_reply": "2022-03-03T20:22:29.330301Z"
    },
    "papermill": {
     "duration": 6.098018,
     "end_time": "2022-03-03T20:22:29.330895",
     "exception": false,
     "start_time": "2022-03-03T20:22:23.232877",
     "status": "completed"
    },
    "tags": []
   },
   "outputs": [],
   "source": [
    "import numpy as np\n",
    "import pandas as pd\n",
    "import anndata\n",
    "import scanpy as sc\n",
    "from ALLCools.mcds import MCDS\n",
    "\n",
    "\n",
    "import xarray as xr\n",
    "import dask\n",
    "from ALLCools.plot import *\n",
    "import pathlib\n",
    "import seaborn as sns\n",
    "import matplotlib.pyplot as plt\n",
    "import joblib\n",
    "import json\n",
    "\n",
    "import warnings"
   ]
  },
  {
   "cell_type": "code",
   "execution_count": null,
   "id": "62f608ad",
   "metadata": {
    "ExecuteTime": {
     "end_time": "2022-03-03T21:38:26.845880Z",
     "start_time": "2022-03-03T21:38:26.845869Z"
    },
    "execution": {
     "iopub.execute_input": "2022-03-03T20:22:29.845198Z",
     "iopub.status.busy": "2022-03-03T20:22:29.844778Z",
     "iopub.status.idle": "2022-03-03T20:22:29.846245Z",
     "shell.execute_reply": "2022-03-03T20:22:29.845934Z"
    },
    "papermill": {
     "duration": 0.286254,
     "end_time": "2022-03-03T20:22:29.846357",
     "exception": false,
     "start_time": "2022-03-03T20:22:29.560103",
     "status": "completed"
    },
    "tags": [
     "parameters"
    ]
   },
   "outputs": [],
   "source": [
    "cluster_col = 'L1'\n",
    "mc_type = 'CHN'\n",
    "metadata_path = './CellMetadata.AfterQC.pdpkl'\n",
    "adata_path = './adata.with_coords.h5ad'\n",
    "old_annot_path = None\n",
    "\n",
    "auto_annot_prefix = ''\n",
    "\n",
    "gene_annotation_path = '~/refs/human/hg38/gencode/v33/gencode.v33.basic.annotation.gene.flat.tsv.gz'\n",
    "obs_dim = 'cell'\n",
    "var_dim = 'gene'\n",
    "\n",
    "plot_top_n_markers = 10\n",
    "\n",
    "n_samples = 5000\n",
    "\n",
    "mcds_path_list = [\n",
    "]\n",
    "\n",
    "region_supregion_path = '~/map.region-supregion.json'\n",
    "supregion_color_path = '~/map.supregion-color.json'\n",
    "\n",
    "gene_mcds_path_pattern = None\n"
   ]
  },
  {
   "cell_type": "code",
   "execution_count": null,
   "id": "bfecbd40",
   "metadata": {
    "ExecuteTime": {
     "end_time": "2022-03-03T21:38:26.846669Z",
     "start_time": "2022-03-03T21:38:26.846658Z"
    },
    "execution": {
     "iopub.execute_input": "2022-03-03T20:22:30.188033Z",
     "iopub.status.busy": "2022-03-03T20:22:30.187119Z",
     "iopub.status.idle": "2022-03-03T20:22:30.189590Z",
     "shell.execute_reply": "2022-03-03T20:22:30.189274Z"
    },
    "papermill": {
     "duration": 0.184148,
     "end_time": "2022-03-03T20:22:30.189703",
     "exception": false,
     "start_time": "2022-03-03T20:22:30.005555",
     "status": "completed"
    },
    "tags": [
     "injected-parameters"
    ]
   },
   "outputs": [],
   "source": [
    "# Parameters\n",
    "cluster_col = \"L3\"\n",
    "mc_type = \"CHN\"\n",
    "metadata_path = \"./CellMetadata.AfterQC.pdpkl\"\n",
    "adata_path = \"./adata.with_coords.h5ad\"\n",
    "gene_annotation_path = \"~/refs/human/hg38/gencode/v33/gencode.v33.basic.annotation.gene.flat.tsv.gz\"\n",
    "obs_dim = \"cell\"\n",
    "var_dim = \"gene\"\n",
    "plot_top_n_markers = 10\n",
    "n_samples = 20000\n",
    "mcds_path_list = [\n",
    "    \"~/mcds/hba_pool18_h1930002_A1C.mcds\",\n",
    "    \"~/mcds/hba_pool76_h1930002_BL-La.mcds\",\n",
    "    \"~/mcds/hba_pool88_h1930002_A38.mcds\",\n",
    "    \"~/mcds/hba_pool2_h1930001_MTG.mcds\",\n",
    "    \"~/mcds/hba_pool49_h1930002_SI.mcds\",\n",
    "    \"~/mcds/hba_pool11_h1930001_ACC.mcds\",\n",
    "    \"~/mcds/hba_pool87_h1930001_CA1C-CA2C-CA3C-DGC-CA4C.mcds\",\n",
    "    \"~/mcds/hba_pool9_h1930001_FI.mcds\",\n",
    "    \"~/mcds/hba_pool84_h1930001_Idg.mcds\",\n",
    "    \"~/mcds/hba_pool23_h1930002_S1C.mcds\",\n",
    "    \"~/mcds/hba_pool59_h1930001_DGC-CA4Cpy.mcds\",\n",
    "    \"~/mcds/hba_pool39_h1930002_Pu.mcds\",\n",
    "    \"~/mcds/hba_pool56_h1930001_MEC.mcds\",\n",
    "    \"~/mcds/hba_pool46_h1930001_CBL.mcds\",\n",
    "    \"~/mcds/hba_pool26_h1930002_Pro.mcds\",\n",
    "    \"~/mcds/hba_pool71_h1930002_Cla.mcds\",\n",
    "    \"~/mcds/hba_pool48_h1930002_BNST_a.mcds\",\n",
    "    \"~/mcds/hba_pool54_h1930001_CMN.mcds\",\n",
    "    \"~/mcds/hba_pool50_h1930001_BM_a.mcds\",\n",
    "    \"~/mcds/hba_pool17_h1930001_A44-A45.mcds\",\n",
    "    \"~/mcds/hba_pool64_h1930002_IC.mcds\",\n",
    "    \"~/mcds/hba_pool66_h1930001_CA1R-CA2R-CA3R-DGR-CA4R.mcds\",\n",
    "    \"~/mcds/hba_pool7_h1930002_V2.mcds\",\n",
    "    \"~/mcds/hba_pool40_h1930001_TH-TL.mcds\",\n",
    "    \"~/mcds/hba_pool3_h1930001_CBV.mcds\",\n",
    "    \"~/mcds/hba_pool74_h1930001_IC.mcds\",\n",
    "    \"~/mcds/hba_pool13_h1930002_FI.mcds\",\n",
    "    \"~/mcds/hba_pool33_h1930002_A19.mcds\",\n",
    "    \"~/mcds/hba_pool3_h1930002_CBV.mcds\",\n",
    "    \"~/mcds/hba_pool65_h1930001_BL-La.mcds\",\n",
    "    \"~/mcds/hba_pool43_h1930002_CaB.mcds\",\n",
    "    \"~/mcds/hba_pool20_h1930001_A5-A7.mcds\",\n",
    "    \"~/mcds/hba_pool51_h1930002_CMN_a.mcds\",\n",
    "    \"~/mcds/hba_pool42_h1930001_CaB.mcds\",\n",
    "    \"~/mcds/hba_pool52_h1930002_MD-Re_a.mcds\",\n",
    "    \"~/mcds/hba_pool45_h1930001_SI.mcds\",\n",
    "    \"~/mcds/hba_pool38_h1930001_Pu.mcds\",\n",
    "    \"~/mcds/hba_pool8_h1930001_V1C.mcds\",\n",
    "    \"~/mcds/hba_pool12_h1930002_V1C.mcds\",\n",
    "    \"~/mcds/hba_pool10_h1930001_A46.mcds\",\n",
    "    \"~/mcds/hba_pool81_h1930002_A25.mcds\",\n",
    "    \"~/mcds/hba_pool69_h1930002_Amy.mcds\",\n",
    "    \"~/mcds/hba_pool86_h1930001_A25.mcds\",\n",
    "    \"~/mcds/hba_pool37_h1930002_GPe.mcds\",\n",
    "    \"~/mcds/hba_pool73_h1930002_CA1C-CA2C-CA3C-DGC-CA4C.mcds\",\n",
    "    \"~/mcds/hba_pool80_h1930002_Pul.mcds\",\n",
    "    \"~/mcds/hba_pool27_h1930002_Ig.mcds\",\n",
    "    \"~/mcds/hba_pool78_h1930002_PN.mcds\",\n",
    "    \"~/mcds/hba_pool90_h1930002_CBL.mcds\",\n",
    "    \"~/mcds/hba_pool29_h1930002_Pir.mcds\",\n",
    "    \"~/mcds/hba_pool22_h1930001_S1C.mcds\",\n",
    "    \"~/mcds/hba_pool67_h1930001_CA1C-CA2C-CA3C-DGC-CA4C.mcds\",\n",
    "    \"~/mcds/hba_pool4_h1930001_M1C.mcds\",\n",
    "    \"~/mcds/hba_pool85_h1930001_ITG.mcds\",\n",
    "    \"~/mcds/hba_pool61_h1930001_Sub.mcds\",\n",
    "    \"~/mcds/hba_pool41_h1930001_BNST_a.mcds\",\n",
    "    \"~/mcds/hba_pool82_h1930002_Idg.mcds\",\n",
    "    \"~/mcds/hba_pool44_h1930002_SEP.mcds\",\n",
    "    \"~/mcds/hba_pool55_h1930001_Pul.mcds\",\n",
    "    \"~/mcds/hba_pool47_h1930002_TH-TL.mcds\",\n",
    "    \"~/mcds/hba_pool25_h1930001_Pro.mcds\",\n",
    "    \"~/mcds/hba_pool36_h1930001_GPe.mcds\",\n",
    "    \"~/mcds/hba_pool58_h1930001_SEP.mcds\",\n",
    "    \"~/mcds/hba_pool75_h1930001_CA1R-CA2R-CA3R-DGR-CA4R.mcds\",\n",
    "    \"~/mcds/hba_pool1_h1930002_MTG.mcds\",\n",
    "    \"~/mcds/hba_pool14_h1930002_A46.mcds\",\n",
    "    \"~/mcds/hba_pool15_h1930002_ACC.mcds\",\n",
    "    \"~/mcds/hba_pool68_h1930001_Amy.mcds\",\n",
    "    \"~/mcds/hba_pool79_h1930001_MD_Re.mcds\",\n",
    "    \"~/mcds/hba_pool89_h1930002_ITG.mcds\",\n",
    "    \"~/mcds/hba_pool63_h1930002_CA1R-CA2R-CA3R.mcds\",\n",
    "    \"~/mcds/hba_pool31_h1930002_LEC.mcds\",\n",
    "    \"~/mcds/hba_pool16_h1930001_A1C.mcds\",\n",
    "    \"~/mcds/hba_pool6_h1930001_V2.mcds\",\n",
    "    \"~/mcds/hba_pool57_h1930002_MEC.mcds\",\n",
    "    \"~/mcds/hba_pool32_h1930001_A19.mcds\",\n",
    "    \"~/mcds/hba_pool62_h1930002_DGR-CA4Rpy.mcds\",\n",
    "    \"~/mcds/hba_pool30_h1930001_LEC.mcds\",\n",
    "    \"~/mcds/hba_pool72_h1930002_CA1C-CA2C-CA3C-DGC-CA4C.mcds\",\n",
    "    \"~/mcds/hba_pool60_h1930002_Sub.mcds\",\n",
    "    \"~/mcds/hba_pool53_h1930002_CEN_a.mcds\",\n",
    "    \"~/mcds/hba_pool28_h1930001_Pir.mcds\",\n",
    "    \"~/mcds/hba_pool77_h1930001_PN.mcds\",\n",
    "    \"~/mcds/hba_pool35_h1930002_NAC.mcds\",\n",
    "    \"~/mcds/hba_pool70_h1930001_Cla.mcds\",\n",
    "    \"~/mcds/hba_pool0_h1930002_CBV.mcds\",\n",
    "    \"~/mcds/hba_pool19_h1930002_A44-A45.mcds\",\n",
    "    \"~/mcds/hba_pool5_h1930002_M1C.mcds\",\n",
    "    \"~/mcds/hba_pool21_h1930002_A5-A7.mcds\",\n",
    "    \"~/mcds/hba_pool34_h1930001_NAC.mcds\",\n",
    "    \"~/mcds/hba_pool0_h1930001_CBV.mcds\",\n",
    "    \"~/mcds/hba_pool83_h1930001_A38.mcds\",\n",
    "    \"~/mcds/hba_pool24_h1930001_Ig.mcds\",\n",
    "]\n",
    "old_annot_path = (\n",
    "    \"~/cell_annotation_meta.pdpkl\"\n",
    ")\n",
    "auto_annot_prefix = \"VLMC\"\n",
    "\n",
    "gene_mcds_path_pattern = None"
   ]
  },
  {
   "cell_type": "code",
   "execution_count": null,
   "id": "33260716",
   "metadata": {
    "ExecuteTime": {
     "end_time": "2022-03-03T21:38:26.847317Z",
     "start_time": "2022-03-03T21:38:26.847307Z"
    },
    "execution": {
     "iopub.execute_input": "2022-03-03T20:22:30.457956Z",
     "iopub.status.busy": "2022-03-03T20:22:30.457549Z",
     "iopub.status.idle": "2022-03-03T20:22:30.458709Z",
     "shell.execute_reply": "2022-03-03T20:22:30.459008Z"
    },
    "papermill": {
     "duration": 0.109196,
     "end_time": "2022-03-03T20:22:30.459142",
     "exception": false,
     "start_time": "2022-03-03T20:22:30.349946",
     "status": "completed"
    },
    "tags": []
   },
   "outputs": [],
   "source": [
    "if auto_annot_prefix.strip()!='':\n",
    "    auto_annot_prefix += ':'\n",
    "else:\n",
    "    auto_annot_prefix  = ''"
   ]
  },
  {
   "cell_type": "code",
   "execution_count": null,
   "id": "f23acb4b",
   "metadata": {
    "ExecuteTime": {
     "end_time": "2022-03-03T21:38:26.847852Z",
     "start_time": "2022-03-03T21:38:26.847842Z"
    },
    "execution": {
     "iopub.execute_input": "2022-03-03T20:22:30.653518Z",
     "iopub.status.busy": "2022-03-03T20:22:30.653118Z",
     "iopub.status.idle": "2022-03-03T20:22:30.949297Z",
     "shell.execute_reply": "2022-03-03T20:22:30.949601Z"
    },
    "papermill": {
     "duration": 0.417973,
     "end_time": "2022-03-03T20:22:30.949755",
     "exception": false,
     "start_time": "2022-03-03T20:22:30.531782",
     "status": "completed"
    },
    "tags": []
   },
   "outputs": [],
   "source": [
    "gene_meta = pd.read_csv(gene_annotation_path, index_col='gene_id', sep='\\t')\n",
    "# gene_meta.index = gene_meta['gene']\n",
    "gene_name_to_id = {v:k for k, v in gene_meta['gene_name'].iteritems()}\n",
    "gene_id_to_name = {k:v for k, v in gene_meta['gene_name'].iteritems()}\n",
    "gene_id_base_to_id = pd.Series(gene_meta.index, index = gene_meta.index.map(lambda i: i.split('.')[0])).to_dict()"
   ]
  },
  {
   "cell_type": "code",
   "execution_count": null,
   "id": "ad557d9c",
   "metadata": {
    "ExecuteTime": {
     "end_time": "2022-03-03T21:38:26.848546Z",
     "start_time": "2022-03-03T21:38:26.848537Z"
    },
    "execution": {
     "iopub.execute_input": "2022-03-03T20:22:31.205049Z",
     "iopub.status.busy": "2022-03-03T20:22:31.204611Z",
     "iopub.status.idle": "2022-03-03T20:22:31.275638Z",
     "shell.execute_reply": "2022-03-03T20:22:31.275982Z"
    },
    "papermill": {
     "duration": 0.197095,
     "end_time": "2022-03-03T20:22:31.276139",
     "exception": false,
     "start_time": "2022-03-03T20:22:31.079044",
     "status": "completed"
    },
    "tags": []
   },
   "outputs": [],
   "source": [
    "with open(region_supregion_path) as f:\n",
    "    map_region_supregion = json.load(f)\n",
    "with open(supregion_color_path) as f:\n",
    "    palette_supregion_color = json.load(f)"
   ]
  },
  {
   "cell_type": "code",
   "execution_count": null,
   "id": "9ce8c6d9",
   "metadata": {
    "ExecuteTime": {
     "end_time": "2022-03-03T21:38:26.849318Z",
     "start_time": "2022-03-03T21:38:26.849309Z"
    },
    "execution": {
     "iopub.execute_input": "2022-03-03T20:22:31.664542Z",
     "iopub.status.busy": "2022-03-03T20:22:31.663230Z",
     "iopub.status.idle": "2022-03-03T20:22:31.921718Z",
     "shell.execute_reply": "2022-03-03T20:22:31.921351Z"
    },
    "papermill": {
     "duration": 0.49299,
     "end_time": "2022-03-03T20:22:31.921839",
     "exception": false,
     "start_time": "2022-03-03T20:22:31.428849",
     "status": "completed"
    },
    "tags": []
   },
   "outputs": [],
   "source": [
    "cell_meta = pd.read_pickle(metadata_path)\n",
    "adata = anndata.read_h5ad(adata_path)\n",
    "for col in adata.obs.columns:\n",
    "    cell_meta[col] = adata.obs[col]\n",
    "    \n",
    "cell_meta['SupRegion'] = cell_meta['Region'].map(map_region_supregion)\n"
   ]
  },
  {
   "cell_type": "code",
   "execution_count": null,
   "id": "43430e51",
   "metadata": {
    "ExecuteTime": {
     "end_time": "2022-03-03T21:38:26.850078Z",
     "start_time": "2022-03-03T21:38:26.850068Z"
    },
    "execution": {
     "iopub.execute_input": "2022-03-03T20:22:32.119515Z",
     "iopub.status.busy": "2022-03-03T20:22:32.119091Z",
     "iopub.status.idle": "2022-03-03T20:22:32.120963Z",
     "shell.execute_reply": "2022-03-03T20:22:32.120572Z"
    },
    "papermill": {
     "duration": 0.131299,
     "end_time": "2022-03-03T20:22:32.121084",
     "exception": false,
     "start_time": "2022-03-03T20:22:31.989785",
     "status": "completed"
    },
    "tags": []
   },
   "outputs": [],
   "source": [
    "if len(cell_meta)>n_samples:\n",
    "    sample_cell_meta = cell_meta.sample(n_samples).copy()\n",
    "else:\n",
    "    sample_cell_meta = cell_meta.copy()\n",
    "    "
   ]
  },
  {
   "cell_type": "code",
   "execution_count": null,
   "id": "43a3edd6",
   "metadata": {
    "ExecuteTime": {
     "end_time": "2022-03-03T21:38:26.850756Z",
     "start_time": "2022-03-03T21:38:26.850742Z"
    },
    "execution": {
     "iopub.execute_input": "2022-03-03T20:22:32.390821Z",
     "iopub.status.busy": "2022-03-03T20:22:32.390399Z",
     "iopub.status.idle": "2022-03-03T20:22:32.423082Z",
     "shell.execute_reply": "2022-03-03T20:22:32.422736Z"
    },
    "papermill": {
     "duration": 0.146167,
     "end_time": "2022-03-03T20:22:32.423194",
     "exception": false,
     "start_time": "2022-03-03T20:22:32.277027",
     "status": "completed"
    },
    "tags": []
   },
   "outputs": [],
   "source": [
    "try:\n",
    "    dmg_table = pd.read_pickle(f'{cluster_col}.{mc_type}.OneVsRestDMG.pdpkl')\n",
    "except:\n",
    "    dmg_table = None"
   ]
  },
  {
   "cell_type": "code",
   "execution_count": null,
   "id": "6207a4fb",
   "metadata": {
    "ExecuteTime": {
     "end_time": "2022-03-03T21:38:26.851492Z",
     "start_time": "2022-03-03T21:38:26.851482Z"
    }
   },
   "outputs": [],
   "source": [
    "try:\n",
    "    pw_dmg_table = pd.read_pickle(f'{cluster_col}.{mc_type}.PairwiseDMG.pdpkl')\n",
    "except:\n",
    "    pw_dmg_table = None"
   ]
  },
  {
   "cell_type": "code",
   "execution_count": null,
   "id": "a3a94da5",
   "metadata": {
    "ExecuteTime": {
     "end_time": "2022-03-03T21:38:26.851990Z",
     "start_time": "2022-03-03T21:38:26.851981Z"
    },
    "execution": {
     "iopub.execute_input": "2022-03-03T20:22:32.580349Z",
     "iopub.status.busy": "2022-03-03T20:22:32.579639Z",
     "iopub.status.idle": "2022-03-03T20:22:32.586036Z",
     "shell.execute_reply": "2022-03-03T20:22:32.585375Z"
    },
    "papermill": {
     "duration": 0.090918,
     "end_time": "2022-03-03T20:22:32.586218",
     "exception": false,
     "start_time": "2022-03-03T20:22:32.495300",
     "status": "completed"
    },
    "tags": []
   },
   "outputs": [],
   "source": [
    "top_markers = set()\n",
    "\n",
    "if dmg_table is not None:\n",
    "    tmp = dmg_table.groupby('cluster')['AUROC'].nlargest(plot_top_n_markers).index\n",
    "    if isinstance(tmp, pd.MultiIndex):\n",
    "        tmp = tmp.droplevel()\n",
    "    top_markers.update(tmp)\n",
    "if pw_dmg_table is not None:\n",
    "#     tmp = pw_dmg_table.groupby('left-right')['AUROC'].nlargest(plot_top_n_markers).index\n",
    "#     if isinstance(tmp, pd.MultiIndex):\n",
    "#         tmp = tmp.droplevel()\n",
    "#     top_markers.update(tmp)\n",
    "    top_markers.update(pw_dmg_table.index.unique())"
   ]
  },
  {
   "cell_type": "code",
   "execution_count": null,
   "id": "c50919cf",
   "metadata": {
    "ExecuteTime": {
     "end_time": "2022-03-03T21:38:26.852736Z",
     "start_time": "2022-03-03T21:38:26.852728Z"
    },
    "execution": {
     "iopub.execute_input": "2022-03-03T20:22:33.210112Z",
     "iopub.status.busy": "2022-03-03T20:22:33.209421Z",
     "iopub.status.idle": "2022-03-03T20:22:33.210788Z",
     "shell.execute_reply": "2022-03-03T20:22:33.211288Z"
    },
    "papermill": {
     "duration": 0.197772,
     "end_time": "2022-03-03T20:22:33.211489",
     "exception": false,
     "start_time": "2022-03-03T20:22:33.013717",
     "status": "completed"
    },
    "tags": []
   },
   "outputs": [],
   "source": [
    "if gene_mcds_path_pattern is None:\n",
    "    gene_mcds_path_pattern = [x.replace('.mcds','.gene_da_rate.mcds').replace('mcds/','gene_mcds/') \\\n",
    "                              for x in mcds_path_list]"
   ]
  },
  {
   "cell_type": "code",
   "execution_count": null,
   "id": "d09e9485",
   "metadata": {
    "ExecuteTime": {
     "end_time": "2022-03-03T21:38:26.853408Z",
     "start_time": "2022-03-03T21:38:26.853399Z"
    },
    "execution": {
     "iopub.execute_input": "2022-03-03T20:22:33.564421Z",
     "iopub.status.busy": "2022-03-03T20:22:33.563667Z",
     "iopub.status.idle": "2022-03-03T20:23:54.176694Z",
     "shell.execute_reply": "2022-03-03T20:23:54.177295Z"
    },
    "papermill": {
     "duration": 80.734394,
     "end_time": "2022-03-03T20:23:54.177528",
     "exception": false,
     "start_time": "2022-03-03T20:22:33.443134",
     "status": "completed"
    },
    "tags": []
   },
   "outputs": [],
   "source": [
    "mcds = MCDS.open(gene_mcds_path_pattern, obs_dim=obs_dim)\n",
    "# mcds = mcds.sel({var_dim:use_features})\n",
    "mcds = mcds.sel(mc_type=mc_type)"
   ]
  },
  {
   "cell_type": "code",
   "execution_count": null,
   "id": "096dda0a",
   "metadata": {
    "ExecuteTime": {
     "end_time": "2022-03-03T21:38:26.853953Z",
     "start_time": "2022-03-03T21:38:26.853944Z"
    },
    "execution": {
     "iopub.execute_input": "2022-03-03T20:23:54.720671Z",
     "iopub.status.busy": "2022-03-03T20:23:54.714642Z",
     "iopub.status.idle": "2022-03-03T20:27:02.776505Z",
     "shell.execute_reply": "2022-03-03T20:27:02.776036Z"
    },
    "papermill": {
     "duration": 188.391512,
     "end_time": "2022-03-03T20:27:02.776626",
     "exception": false,
     "start_time": "2022-03-03T20:23:54.385114",
     "status": "completed"
    },
    "tags": []
   },
   "outputs": [],
   "source": [
    "if len(top_markers)!=0:\n",
    "    use_genes = mcds.get_index('gene')\n",
    "    use_genes = use_genes[use_genes.isin(top_markers)]\n",
    "    use_cells = mcds.get_index('cell')\n",
    "    use_cells = use_cells[use_cells.isin(sample_cell_meta.index)]\n",
    "    submcds = mcds.sel({obs_dim:use_cells}).sel({var_dim:use_genes})\n",
    "    submcds.load()"
   ]
  },
  {
   "cell_type": "code",
   "execution_count": null,
   "id": "79fde882",
   "metadata": {
    "ExecuteTime": {
     "end_time": "2022-03-03T21:38:26.854587Z",
     "start_time": "2022-03-03T21:38:26.854578Z"
    },
    "code_folding": [
     0
    ],
    "execution": {
     "iopub.execute_input": "2022-03-03T20:27:02.976329Z",
     "iopub.status.busy": "2022-03-03T20:27:02.973195Z",
     "iopub.status.idle": "2022-03-03T20:27:02.977926Z",
     "shell.execute_reply": "2022-03-03T20:27:02.977571Z"
    },
    "papermill": {
     "duration": 0.120255,
     "end_time": "2022-03-03T20:27:02.978051",
     "exception": false,
     "start_time": "2022-03-03T20:27:02.857796",
     "status": "completed"
    },
    "tags": []
   },
   "outputs": [],
   "source": [
    "def plot_cluster_and_genes(cluster, cell_meta, cluster_col, genes_data,\n",
    "                           coord_base='umap', ncols=5, axes_size=3, dpi=150, hue_norm=(0.67, 1.5)):\n",
    "    if isinstance(cluster, str):\n",
    "        cluster = [cluster]\n",
    "        \n",
    "    ncols = max(2, ncols)\n",
    "    nrows = 1 + (genes_data.shape[1] - 1) // ncols + 1\n",
    "\n",
    "    # figure\n",
    "    fig = plt.figure(figsize=(ncols * axes_size, nrows * axes_size), dpi=dpi)\n",
    "    gs = fig.add_gridspec(nrows=nrows, ncols=ncols)\n",
    "\n",
    "    # cluster axes\n",
    "   \n",
    "    ax = fig.add_subplot(gs[0, 0])\n",
    "    categorical_scatter(data=cell_meta,\n",
    "                        ax=ax,\n",
    "                        coord_base=coord_base,\n",
    "                        axis_format=None,\n",
    "                        hue=cluster_col,\n",
    "                        palette='tab20')\n",
    "    ax.set_title('All Clusters')\n",
    "    \n",
    "    ax = fig.add_subplot(gs[0, 1])\n",
    "    categorical_scatter(data=cell_meta,\n",
    "                        ax=ax,\n",
    "                        coord_base=coord_base,\n",
    "                        hue=cell_meta[cluster_col].isin(cluster),\n",
    "                        axis_format=None,\n",
    "                        palette={\n",
    "                            True: 'red',\n",
    "                            False: 'lightgray'\n",
    "                        })\n",
    "    ax.set_title('This Cluster')\n",
    "    \n",
    "    ax = fig.add_subplot(gs[0, 2])\n",
    "    categorical_scatter(data=cell_meta,\n",
    "                        ax=ax,\n",
    "                        coord_base=coord_base,\n",
    "                        hue='Donor',\n",
    "                        axis_format=None,\n",
    "                        scatter_kws=dict(s=1),\n",
    "#                         show_legend=True,\n",
    "                       )\n",
    "    ax.set_title('Donor')\n",
    "    \n",
    "    ax = fig.add_subplot(gs[0, 3])\n",
    "    categorical_scatter(data=cell_meta,\n",
    "                        ax=ax,\n",
    "                        coord_base=coord_base,\n",
    "                        hue='Region',\n",
    "                        axis_format=None,\n",
    "                        scatter_kws=dict(s=1),\n",
    "                       )\n",
    "    ax.set_title('Region')\n",
    "    \n",
    "    ax = fig.add_subplot(gs[0, 4])\n",
    "    categorical_scatter(data=cell_meta,\n",
    "                        ax=ax,\n",
    "                        coord_base=coord_base,\n",
    "                        hue='Region',\n",
    "                        axis_format=None,\n",
    "                        show_legend=True,\n",
    "                        legend_kws=dict(fontsize=6, bbox_to_anchor=(0,1)),\n",
    "                        scatter_kws=dict(s=0),\n",
    "                       )\n",
    "#     ax.set_title('Region')\n",
    "    \n",
    "    \n",
    "    # gene axes\n",
    "    for i, (gene, data) in enumerate(genes_data.iteritems()):\n",
    "        col = i % ncols\n",
    "        row = i // ncols + 1\n",
    "        ax = fig.add_subplot(gs[row, col])\n",
    "\n",
    "        if ax.is_first_col() and ax.is_last_row():\n",
    "            axis = 'tiny'\n",
    "        else:\n",
    "            axis = None\n",
    "\n",
    "        continuous_scatter(ax=ax,\n",
    "                           data=cell_meta,\n",
    "                           hue=data,\n",
    "                           axis_format=axis,\n",
    "                           hue_norm=hue_norm,\n",
    "                           coord_base=coord_base)\n",
    "        ax.set_title(f'{data.name}')\n",
    "    fig.suptitle(f'Cluster {\" : \".join(cluster)} Top Markers')\n",
    "    return fig"
   ]
  },
  {
   "cell_type": "code",
   "execution_count": null,
   "id": "3521eedf",
   "metadata": {
    "ExecuteTime": {
     "end_time": "2022-03-03T21:38:26.855364Z",
     "start_time": "2022-03-03T21:38:26.855355Z"
    },
    "code_folding": [
     0
    ],
    "execution": {
     "iopub.execute_input": "2022-03-03T20:27:03.139235Z",
     "iopub.status.busy": "2022-03-03T20:27:03.124552Z",
     "iopub.status.idle": "2022-03-03T20:27:03.140828Z",
     "shell.execute_reply": "2022-03-03T20:27:03.140488Z"
    },
    "papermill": {
     "duration": 0.094244,
     "end_time": "2022-03-03T20:27:03.140947",
     "exception": false,
     "start_time": "2022-03-03T20:27:03.046703",
     "status": "completed"
    },
    "tags": []
   },
   "outputs": [],
   "source": [
    "def plot_meta_and_old_annot(cell_meta, old_cell_meta_path, coord_base='tsne', dpi=150, supregion=True):\n",
    "    axes_size = 3\n",
    "\n",
    "    fig = plt.figure(figsize=(6 * axes_size, 2 * axes_size), dpi=dpi)\n",
    "    gs = fig.add_gridspec(nrows=2, ncols=6)\n",
    "\n",
    "    # cluster axes\n",
    "   \n",
    "    ax = fig.add_subplot(gs[0, 0])\n",
    "    continuous_scatter(data=cell_meta,\n",
    "                       ax=ax,\n",
    "                       coord_base=coord_base,\n",
    "                       axis_format=None,\n",
    "                       scatter_kws=dict(s=1),\n",
    "                       hue='mCHFrac')\n",
    "    ax.set_title('mCHFrac')\n",
    "    \n",
    "    ax = fig.add_subplot(gs[0, 1])\n",
    "    continuous_scatter(data=cell_meta,\n",
    "                        ax=ax,\n",
    "                        coord_base=coord_base,\n",
    "                        scatter_kws=dict(s=1),\n",
    "                        hue='mCGFrac',)\n",
    "    ax.set_title('mCGFrac')\n",
    "\n",
    "    ax = fig.add_subplot(gs[0, 2])\n",
    "    continuous_scatter(data=cell_meta,\n",
    "                        ax=ax,\n",
    "                        coord_base=coord_base,\n",
    "                        scatter_kws=dict(s=1),\n",
    "                        hue='FinalmCReads',)\n",
    "    ax.set_title('FinalmCReads')\n",
    "    \n",
    "    if supregion:\n",
    "        ax = fig.add_subplot(gs[0, 3])\n",
    "        categorical_scatter(data=cell_meta,\n",
    "                            ax=ax,\n",
    "                            coord_base=coord_base,\n",
    "                            hue='SupRegion',\n",
    "                            palette=palette_supregion_color,\n",
    "                            axis_format=None,\n",
    "                            scatter_kws=dict(s=1),\n",
    "                           )\n",
    "        ax.set_title('SupRegion')\n",
    "\n",
    "        ax = fig.add_subplot(gs[0, 4])\n",
    "        categorical_scatter(data=cell_meta,\n",
    "                            ax=ax,\n",
    "                            coord_base=coord_base,\n",
    "                            hue='SupRegion',\n",
    "                            palette=palette_supregion_color,\n",
    "                            axis_format=None,\n",
    "                            show_legend=True,\n",
    "                            legend_kws=dict(fontsize=6, bbox_to_anchor=(0,1)),\n",
    "                            scatter_kws=dict(s=0),\n",
    "                           )\n",
    "    else:\n",
    "        ax = fig.add_subplot(gs[0, 3])\n",
    "        categorical_scatter(data=cell_meta,\n",
    "                            ax=ax,\n",
    "                            coord_base=coord_base,\n",
    "                            hue='Region',\n",
    "                            palette='tab20',\n",
    "                            axis_format=None,\n",
    "                            scatter_kws=dict(s=1),\n",
    "                           )\n",
    "        ax.set_title('Region')\n",
    "\n",
    "        ax = fig.add_subplot(gs[0, 4])\n",
    "        categorical_scatter(data=cell_meta,\n",
    "                            ax=ax,\n",
    "                            coord_base=coord_base,\n",
    "                            hue='Region',\n",
    "                            palette='tab20',\n",
    "                            axis_format=None,\n",
    "                            show_legend=True,\n",
    "                            legend_kws=dict(fontsize=6, bbox_to_anchor=(0,1)),\n",
    "                            scatter_kws=dict(s=0),\n",
    "                           )\n",
    "    \n",
    "    ax = fig.add_subplot(gs[1, 0])\n",
    "    continuous_scatter(data=cell_meta,\n",
    "                        ax=ax,\n",
    "                        coord_base=coord_base,\n",
    "                        hue='pool_relative_read',\n",
    "                        axis_format=None,\n",
    "                        scatter_kws=dict(s=1),\n",
    "#                         show_legend=True,\n",
    "                       )\n",
    "    ax.set_title('Relative Reads')\n",
    "    \n",
    "    ax = fig.add_subplot(gs[1, 1])\n",
    "    categorical_scatter(data=cell_meta,\n",
    "                        ax=ax,\n",
    "                        coord_base=coord_base,\n",
    "                        hue='Donor',\n",
    "                        axis_format=None,\n",
    "                        scatter_kws=dict(s=1),\n",
    "#                         show_legend=True,\n",
    "                       )\n",
    "    ax.set_title('Donor')\n",
    "    \n",
    "    \n",
    "\n",
    "    \n",
    "    ax = fig.add_subplot(gs[1, 2])\n",
    "    categorical_scatter(data=cell_meta,\n",
    "                        ax=ax,\n",
    "                        coord_base=coord_base,\n",
    "                        hue=cluster_col,\n",
    "                        axis_format=None,\n",
    "                        scatter_kws=dict(s=1),\n",
    "                        text_anno=cluster_col,\n",
    "                       )\n",
    "    ax.set_title(cluster_col)\n",
    "    \n",
    "    if old_cell_meta_path is not None:\n",
    "        tmp_cell_meta = cell_meta.copy()\n",
    "        old_df = pd.read_pickle(old_cell_meta_path)\n",
    "        \n",
    "        if 'L1_annot' in old_df.columns:\n",
    "            tmp_cell_meta['L1_annot'] = old_df['L1_annot']\n",
    "            ax = fig.add_subplot(gs[1, 3])\n",
    "            categorical_scatter(data=tmp_cell_meta[~tmp_cell_meta['L1_annot'].isna()],\n",
    "                                ax=ax,\n",
    "                                coord_base=coord_base,\n",
    "                                hue='L1_annot',\n",
    "                                scatter_kws=dict(s=1),\n",
    "                                text_anno='L1_annot',\n",
    "                               )\n",
    "            ax.set_title('L1_annot')\n",
    "        elif 'CellClass' in old_df.columns:\n",
    "            tmp_cell_meta['CellClass'] = old_df['CellClass']\n",
    "            ax = fig.add_subplot(gs[1, 3])\n",
    "            categorical_scatter(data=tmp_cell_meta[~tmp_cell_meta['CellClass'].isna()],\n",
    "                                ax=ax,\n",
    "                                coord_base=coord_base,\n",
    "                                hue='CellClass',\n",
    "                                scatter_kws=dict(s=1),\n",
    "                                text_anno='CellClass',\n",
    "                               )\n",
    "            ax.set_title('CellClass')   \n",
    "        \n",
    "        if 'L2_annot' in old_df.columns:\n",
    "            tmp_cell_meta['L2_annot'] = old_df['L2_annot']        \n",
    "            ax = fig.add_subplot(gs[1, 4])\n",
    "            categorical_scatter(data=tmp_cell_meta[~tmp_cell_meta['L2_annot'].isna()],\n",
    "                                ax=ax,\n",
    "                                coord_base=coord_base,\n",
    "                                hue='L2_annot',\n",
    "                                scatter_kws=dict(s=1),\n",
    "                                text_anno='L2_annot',\n",
    "                               )\n",
    "            ax.set_title('L2_annot')\n",
    "        elif 'MajorType' in old_df.columns:\n",
    "            tmp_cell_meta['MajorType'] = old_df['MajorType']        \n",
    "            ax = fig.add_subplot(gs[1, 4])\n",
    "            categorical_scatter(data=tmp_cell_meta[~tmp_cell_meta['MajorType'].isna()],\n",
    "                                ax=ax,\n",
    "                                coord_base=coord_base,\n",
    "                                hue='MajorType',\n",
    "                                scatter_kws=dict(s=1),\n",
    "                                text_anno='MajorType',\n",
    "                               )\n",
    "            ax.set_title('MajorType')"
   ]
  },
  {
   "cell_type": "code",
   "execution_count": null,
   "id": "1fbb08c3",
   "metadata": {
    "ExecuteTime": {
     "end_time": "2022-03-03T21:38:26.855939Z",
     "start_time": "2022-03-03T21:38:26.855930Z"
    },
    "code_folding": [
     0,
     9
    ],
    "execution": {
     "iopub.execute_input": "2022-03-03T20:27:03.311999Z",
     "iopub.status.busy": "2022-03-03T20:27:03.311585Z",
     "iopub.status.idle": "2022-03-03T20:27:03.313023Z",
     "shell.execute_reply": "2022-03-03T20:27:03.312649Z"
    },
    "papermill": {
     "duration": 0.077104,
     "end_time": "2022-03-03T20:27:03.313134",
     "exception": false,
     "start_time": "2022-03-03T20:27:03.236030",
     "status": "completed"
    },
    "tags": []
   },
   "outputs": [],
   "source": [
    "def get_gene_ids(genes):\n",
    "    def _get_gene_id(gene):\n",
    "        if gene.startswith('ENSG'):\n",
    "            gene_id = gene\n",
    "        else:\n",
    "            gene_id = gene_name_to_id[gene]\n",
    "        return gene_id\n",
    "    return [_get_gene_id(g) for g in genes]\n",
    "\n",
    "def plot_genes(cell_meta, genes, coord_base='tsne', ncols=5, axes_size=3, dpi=150, hue_norm=(0.67, 1.5)):\n",
    "    genes_data = mcds.sel(gene=get_gene_ids(known_markers))['gene_da_frac'].to_pandas()\n",
    "    genes_data.columns = genes\n",
    "    \n",
    "    nrows = (genes_data.shape[1] - 1) // ncols + 1\n",
    "\n",
    "    # figure\n",
    "    fig= plt.figure(figsize=(ncols * axes_size, nrows * axes_size), dpi=dpi)\n",
    "    gs = fig.add_gridspec(nrows=nrows, ncols=ncols)\n",
    "    \n",
    "\n",
    "    # gene axes\n",
    "    for i, (gene, data) in enumerate(genes_data.iteritems()):\n",
    "        col = i % ncols\n",
    "        row = i // ncols\n",
    "        ax = fig.add_subplot(gs[row, col])\n",
    "\n",
    "        if ax.is_first_col() and ax.is_last_row():\n",
    "            axis = 'tiny'\n",
    "        else:\n",
    "            axis = None\n",
    "\n",
    "        continuous_scatter(ax=ax,\n",
    "                           data=cell_meta,\n",
    "                           hue=data,\n",
    "                           axis_format=axis,\n",
    "                           hue_norm=hue_norm,\n",
    "                           coord_base=coord_base)\n",
    "        ax.set_title(f'{data.name}')\n",
    "#     fig.suptitle(f'Cluster {cluster} Top Markers')\n",
    "    return fig"
   ]
  },
  {
   "cell_type": "code",
   "execution_count": null,
   "id": "04665be8",
   "metadata": {
    "ExecuteTime": {
     "end_time": "2022-03-03T21:38:26.856577Z",
     "start_time": "2022-03-03T21:38:26.856569Z"
    },
    "execution": {
     "iopub.execute_input": "2022-03-03T20:27:03.496032Z",
     "iopub.status.busy": "2022-03-03T20:27:03.495619Z",
     "iopub.status.idle": "2022-03-03T20:27:03.497191Z",
     "shell.execute_reply": "2022-03-03T20:27:03.496811Z"
    },
    "papermill": {
     "duration": 0.080069,
     "end_time": "2022-03-03T20:27:03.497303",
     "exception": false,
     "start_time": "2022-03-03T20:27:03.417234",
     "status": "completed"
    },
    "tags": []
   },
   "outputs": [],
   "source": [
    "sample_cell_meta[cluster_col]=sample_cell_meta[cluster_col].astype(str)"
   ]
  },
  {
   "cell_type": "code",
   "execution_count": null,
   "id": "9c571968",
   "metadata": {
    "ExecuteTime": {
     "end_time": "2022-03-03T21:38:26.857073Z",
     "start_time": "2022-03-03T21:38:26.857064Z"
    },
    "code_folding": [
     2
    ],
    "execution": {
     "iopub.execute_input": "2022-03-03T20:27:03.863297Z",
     "iopub.status.busy": "2022-03-03T20:27:03.862892Z",
     "iopub.status.idle": "2022-03-03T20:27:11.618631Z",
     "shell.execute_reply": "2022-03-03T20:27:11.618978Z"
    },
    "papermill": {
     "duration": 7.970682,
     "end_time": "2022-03-03T20:27:11.619128",
     "exception": false,
     "start_time": "2022-03-03T20:27:03.648446",
     "status": "completed"
    },
    "scrolled": true,
    "tags": []
   },
   "outputs": [],
   "source": [
    "with warnings.catch_warnings():\n",
    "    warnings.simplefilter(\"ignore\")\n",
    "    if dmg_table is not None:\n",
    "        for cluster, sub_dmg_table in dmg_table.groupby('cluster'):\n",
    "            genes = sub_dmg_table.sort_values('AUROC', ascending=False)[:plot_top_n_markers]\n",
    "            genes_data = submcds.sel(gene=genes.index)['gene_da_frac'].to_pandas()\n",
    "            genes_data.columns = genes_data.columns.map(gene_meta['gene_name'])\n",
    "\n",
    "            fig = plot_cluster_and_genes(cluster=cluster,\n",
    "                                         cell_meta=sample_cell_meta,\n",
    "                                         cluster_col=cluster_col,\n",
    "                                         genes_data=genes_data,\n",
    "                                         coord_base='tsne',\n",
    "                                         ncols=5,\n",
    "                                         axes_size=3,\n",
    "                                         dpi=100,\n",
    "                                         hue_norm=(0,1),\n",
    "                                        )\n",
    "\n",
    "            plt.show()\n"
   ]
  },
  {
   "cell_type": "code",
   "execution_count": null,
   "id": "aa82e634",
   "metadata": {
    "ExecuteTime": {
     "end_time": "2022-03-03T21:38:26.857738Z",
     "start_time": "2022-03-03T21:38:26.857729Z"
    },
    "scrolled": true
   },
   "outputs": [],
   "source": [
    "with warnings.catch_warnings():\n",
    "    warnings.simplefilter(\"ignore\")\n",
    "    if pw_dmg_table is not None:\n",
    "        for cluster, sub_dmg_table in pw_dmg_table.groupby('left-right'):\n",
    "            genes = sub_dmg_table.sort_values('AUROC', ascending=False)[:plot_top_n_markers]\n",
    "            genes_data = submcds.sel(gene=genes.index)['gene_da_frac'].to_pandas()\n",
    "            genes_data.columns = genes_data.columns.map(gene_meta['gene_name'])\n",
    "\n",
    "            fig = plot_cluster_and_genes(cluster=cluster.split('-'),\n",
    "                                         cell_meta=sample_cell_meta,\n",
    "                                         cluster_col=cluster_col,\n",
    "                                         genes_data=genes_data,\n",
    "                                         coord_base='tsne',\n",
    "                                         ncols=5,\n",
    "                                         axes_size=3,\n",
    "                                         dpi=100,\n",
    "                                         hue_norm=(0,1),\n",
    "                                        )\n",
    "\n",
    "            plt.show()\n"
   ]
  },
  {
   "cell_type": "code",
   "execution_count": null,
   "id": "e44b5d28",
   "metadata": {
    "ExecuteTime": {
     "end_time": "2022-03-03T21:38:26.858410Z",
     "start_time": "2022-03-03T21:38:26.858401Z"
    }
   },
   "outputs": [],
   "source": [
    "if len(top_markers)!=0:\n",
    "    tmp = submcds['gene_da_frac'].to_pandas()\n",
    "    tmp[cluster_col] = sample_cell_meta[cluster_col]\n",
    "    tmp = tmp.groupby(cluster_col).mean().T\n",
    "    sns.clustermap(tmp,vmax=2, vmin=0, cmap='bwr')\n",
    "    sns.clustermap(tmp.corr(),vmin=0.5)"
   ]
  },
  {
   "cell_type": "code",
   "execution_count": null,
   "id": "09e5fd01",
   "metadata": {
    "ExecuteTime": {
     "end_time": "2022-03-03T21:38:26.858920Z",
     "start_time": "2022-03-03T21:38:26.858911Z"
    },
    "execution": {
     "iopub.execute_input": "2022-03-03T20:27:12.053108Z",
     "iopub.status.busy": "2022-03-03T20:27:12.050697Z",
     "iopub.status.idle": "2022-03-03T20:27:13.215951Z",
     "shell.execute_reply": "2022-03-03T20:27:13.216289Z"
    },
    "papermill": {
     "duration": 1.342525,
     "end_time": "2022-03-03T20:27:13.216438",
     "exception": false,
     "start_time": "2022-03-03T20:27:11.873913",
     "status": "completed"
    },
    "tags": []
   },
   "outputs": [],
   "source": [
    "plot_meta_and_old_annot(sample_cell_meta, old_annot_path)"
   ]
  },
  {
   "cell_type": "code",
   "execution_count": null,
   "id": "847b1955",
   "metadata": {
    "ExecuteTime": {
     "end_time": "2022-03-03T21:38:26.859608Z",
     "start_time": "2022-03-03T21:38:26.859599Z"
    }
   },
   "outputs": [],
   "source": [
    "# known_markers = ['GAD1','GAD2','SATB2','SLC17A3','SLC17A7']\n",
    "\n",
    "# plot_genes(cell_meta=sample_cell_meta,\n",
    "#            genes=known_markers,\n",
    "#            coord_base='tsne',\n",
    "#            ncols=5,\n",
    "#            axes_size=3,\n",
    "#            dpi=100,\n",
    "#            hue_norm=(0,1),)\n",
    "# plt.show()"
   ]
  },
  {
   "cell_type": "code",
   "execution_count": null,
   "id": "ed2c3ebc",
   "metadata": {
    "ExecuteTime": {
     "end_time": "2022-03-03T21:38:26.860778Z",
     "start_time": "2022-03-03T21:38:26.860769Z"
    },
    "execution": {
     "iopub.execute_input": "2022-03-03T20:27:14.383236Z",
     "iopub.status.busy": "2022-03-03T20:27:14.382830Z",
     "iopub.status.idle": "2022-03-03T20:27:14.384369Z",
     "shell.execute_reply": "2022-03-03T20:27:14.384664Z"
    },
    "papermill": {
     "duration": 0.158615,
     "end_time": "2022-03-03T20:27:14.384796",
     "exception": false,
     "start_time": "2022-03-03T20:27:14.226181",
     "status": "completed"
    },
    "tags": []
   },
   "outputs": [],
   "source": [
    "for clt in sorted(cell_meta[cluster_col].unique()):\n",
    "    print(f\"    '{clt}':'',\")"
   ]
  },
  {
   "cell_type": "code",
   "execution_count": null,
   "id": "55f8e823",
   "metadata": {
    "ExecuteTime": {
     "end_time": "2022-03-03T21:38:26.861457Z",
     "start_time": "2022-03-03T21:38:26.861448Z"
    },
    "execution": {
     "iopub.execute_input": "2022-03-03T20:27:15.169491Z",
     "iopub.status.busy": "2022-03-03T20:27:15.169100Z",
     "iopub.status.idle": "2022-03-03T20:27:15.170587Z",
     "shell.execute_reply": "2022-03-03T20:27:15.170224Z"
    },
    "papermill": {
     "duration": 0.339632,
     "end_time": "2022-03-03T20:27:15.170695",
     "exception": false,
     "start_time": "2022-03-03T20:27:14.831063",
     "status": "completed"
    },
    "tags": []
   },
   "outputs": [],
   "source": [
    "annot_based_on = cluster_col\n",
    "annot_to = f'{cluster_col}_annot'"
   ]
  },
  {
   "cell_type": "markdown",
   "id": "14a6e827",
   "metadata": {
    "papermill": {
     "duration": 0.376941,
     "end_time": "2022-03-03T20:27:15.908344",
     "exception": false,
     "start_time": "2022-03-03T20:27:15.531403",
     "status": "completed"
    },
    "tags": []
   },
   "source": [
    "========================== repeat below ==============================="
   ]
  },
  {
   "cell_type": "code",
   "execution_count": null,
   "id": "aaa1ccca",
   "metadata": {
    "ExecuteTime": {
     "end_time": "2022-03-03T21:38:26.862045Z",
     "start_time": "2022-03-03T21:38:26.862035Z"
    },
    "code_folding": [],
    "execution": {
     "iopub.execute_input": "2022-03-03T20:27:16.240384Z",
     "iopub.status.busy": "2022-03-03T20:27:16.239996Z",
     "iopub.status.idle": "2022-03-03T20:27:16.241814Z",
     "shell.execute_reply": "2022-03-03T20:27:16.241438Z"
    },
    "papermill": {
     "duration": 0.16605,
     "end_time": "2022-03-03T20:27:16.241924",
     "exception": false,
     "start_time": "2022-03-03T20:27:16.075874",
     "status": "completed"
    },
    "tags": []
   },
   "outputs": [],
   "source": [
    "cluster_name_map = {\n",
    "    #copy above output  \n",
    "}\n",
    "if len(cluster_name_map)==0:\n",
    "    cluster_name_map = {clt:f'{auto_annot_prefix}{cluster_col}_{clt}' for clt in sorted(cell_meta[cluster_col].unique())}"
   ]
  },
  {
   "cell_type": "code",
   "execution_count": null,
   "id": "bce5a856",
   "metadata": {
    "ExecuteTime": {
     "end_time": "2022-03-03T21:38:26.869320Z",
     "start_time": "2022-03-03T21:38:26.863702Z"
    },
    "execution": {
     "iopub.execute_input": "2022-03-03T20:27:16.566402Z",
     "iopub.status.busy": "2022-03-03T20:27:16.563974Z",
     "iopub.status.idle": "2022-03-03T20:27:16.569001Z",
     "shell.execute_reply": "2022-03-03T20:27:16.568622Z"
    },
    "papermill": {
     "duration": 0.186657,
     "end_time": "2022-03-03T20:27:16.569112",
     "exception": false,
     "start_time": "2022-03-03T20:27:16.382455",
     "status": "completed"
    },
    "tags": []
   },
   "outputs": [],
   "source": [
    "for k,v in cluster_name_map.items():\n",
    "    if v.strip()=='':\n",
    "        cluster_name_map[k] = k\n",
    "        \n",
    "cell_meta[annot_to] = cell_meta[annot_based_on].apply(\n",
    "        lambda i: cluster_name_map[i] if i in cluster_name_map else i)\n"
   ]
  },
  {
   "cell_type": "code",
   "execution_count": null,
   "id": "2c827d17",
   "metadata": {
    "ExecuteTime": {
     "end_time": "2022-03-03T21:38:26.870403Z",
     "start_time": "2022-03-03T21:38:26.870393Z"
    },
    "execution": {
     "iopub.execute_input": "2022-03-03T20:27:16.910048Z",
     "iopub.status.busy": "2022-03-03T20:27:16.885856Z",
     "iopub.status.idle": "2022-03-03T20:27:17.056754Z",
     "shell.execute_reply": "2022-03-03T20:27:17.057067Z"
    },
    "papermill": {
     "duration": 0.339237,
     "end_time": "2022-03-03T20:27:17.057210",
     "exception": false,
     "start_time": "2022-03-03T20:27:16.717973",
     "status": "completed"
    },
    "tags": []
   },
   "outputs": [],
   "source": [
    "fig, axes = plt.subplots(figsize=(10, 5), dpi=100, ncols=2)\n",
    "categorical_scatter(data=cell_meta,\n",
    "                    coord_base='umap',\n",
    "                    ax=axes[0],\n",
    "                    hue=annot_to,\n",
    "                    palette='tab20',\n",
    "                    text_anno_kws=dict(fontsize=10),\n",
    "                    text_anno=annot_to)\n",
    "categorical_scatter(data=cell_meta,\n",
    "                    coord_base='tsne',\n",
    "                    ax=axes[1],\n",
    "                    hue=annot_to,\n",
    "                    palette='tab20',\n",
    "                    text_anno_kws=dict(fontsize=10),\n",
    "                    text_anno=annot_to)\n",
    "\n",
    "plt.suptitle(annot_to)\n",
    "plt.show()"
   ]
  },
  {
   "cell_type": "code",
   "execution_count": null,
   "id": "f18198f4",
   "metadata": {
    "ExecuteTime": {
     "end_time": "2022-03-03T21:38:26.870946Z",
     "start_time": "2022-03-03T21:38:26.870936Z"
    },
    "execution": {
     "iopub.execute_input": "2022-03-03T20:27:17.456507Z",
     "iopub.status.busy": "2022-03-03T20:27:17.455075Z",
     "iopub.status.idle": "2022-03-03T20:27:17.688618Z",
     "shell.execute_reply": "2022-03-03T20:27:17.688951Z"
    },
    "papermill": {
     "duration": 0.48717,
     "end_time": "2022-03-03T20:27:17.689099",
     "exception": false,
     "start_time": "2022-03-03T20:27:17.201929",
     "status": "completed"
    },
    "tags": []
   },
   "outputs": [],
   "source": [
    "if hasattr(adata, 'uns') and f'dendrogram_{cluster_col}' in adata.uns:\n",
    "    fig, ax = plt.subplots(figsize=(9, 1), dpi=80)\n",
    "    _ = plot_dendrogram(dendro=adata.uns[f'dendrogram_{cluster_col}']['dendrogram_info'],\n",
    "                        linkage_df=pd.DataFrame(adata.uns[f'dendrogram_{cluster_col}']['linkage']),\n",
    "                        ax=ax,\n",
    "                        plot_non_singleton=False,\n",
    "                       )\n",
    "    plt.show()\n",
    "\n",
    "    try:\n",
    "        tmpdendro = adata.uns[f'dendrogram_{cluster_col}']['dendrogram_info'].copy()\n",
    "        tmpdendro['ivl'] = pd.Series(tmpdendro['ivl']).map(cluster_name_map).tolist()\n",
    "        fig, ax = plt.subplots(figsize=(9, 1), dpi=80)\n",
    "        _ = plot_dendrogram(dendro=tmpdendro,\n",
    "                            linkage_df=pd.DataFrame(adata.uns[f'dendrogram_{cluster_col}']['linkage']),\n",
    "                            ax=ax,\n",
    "                            plot_non_singleton=False,\n",
    "                           )\n",
    "        plt.show()\n",
    "    except NameError:\n",
    "        pass\n"
   ]
  },
  {
   "cell_type": "markdown",
   "id": "7c8ad5b9",
   "metadata": {
    "papermill": {
     "duration": 0.262398,
     "end_time": "2022-03-03T20:27:18.196048",
     "exception": false,
     "start_time": "2022-03-03T20:27:17.933650",
     "status": "completed"
    },
    "tags": []
   },
   "source": [
    "========================== repeat above ==============================="
   ]
  },
  {
   "cell_type": "code",
   "execution_count": null,
   "id": "eedb729c",
   "metadata": {
    "ExecuteTime": {
     "end_time": "2022-03-03T21:38:26.871610Z",
     "start_time": "2022-03-03T21:38:26.871601Z"
    },
    "execution": {
     "iopub.execute_input": "2022-03-03T20:27:18.915724Z",
     "iopub.status.busy": "2022-03-03T20:27:18.915309Z",
     "iopub.status.idle": "2022-03-03T20:27:19.145323Z",
     "shell.execute_reply": "2022-03-03T20:27:19.144975Z"
    },
    "papermill": {
     "duration": 0.649995,
     "end_time": "2022-03-03T20:27:19.145459",
     "exception": false,
     "start_time": "2022-03-03T20:27:18.495464",
     "status": "completed"
    },
    "tags": []
   },
   "outputs": [],
   "source": [
    "cell_meta.to_pickle(f'{cluster_col}.Annotation.pdpkl')"
   ]
  },
  {
   "cell_type": "code",
   "execution_count": null,
   "id": "01df04e4",
   "metadata": {
    "ExecuteTime": {
     "end_time": "2022-03-03T21:38:26.872301Z",
     "start_time": "2022-03-03T21:38:26.872292Z"
    },
    "execution": {
     "iopub.execute_input": "2022-03-03T20:27:21.579985Z",
     "iopub.status.busy": "2022-03-03T20:27:21.579572Z",
     "iopub.status.idle": "2022-03-03T20:27:21.580917Z",
     "shell.execute_reply": "2022-03-03T20:27:21.581215Z"
    },
    "papermill": {
     "duration": 0.253926,
     "end_time": "2022-03-03T20:27:21.581343",
     "exception": false,
     "start_time": "2022-03-03T20:27:21.327417",
     "status": "completed"
    },
    "tags": []
   },
   "outputs": [],
   "source": [
    "# dendro = joblib.load(f'./{cluster_col}.Dendrogram.lib')\n",
    "\n",
    "# fig, ax = plt.subplots(figsize=(9, 1), dpi=200)\n",
    "# _ = plot_dendrogram(dendro=dendro.dendrogram,\n",
    "#                     linkage_df=dendro.linkage,\n",
    "#                     ax=ax,\n",
    "#                     plot_non_singleton=False,\n",
    "#                     line_hue=dendro.edge_stats['au'], # au is the branch confidence score, see pvclust documentation\n",
    "#                     line_hue_norm=(0.5, 1))\n",
    "# plt.show()\n",
    "\n",
    "# try:\n",
    "#     dendro.dendrogram['ivl'] = pd.Series(dendro.dendrogram['ivl']).map(cluster_name_map).tolist()\n",
    "#     fig, ax = plt.subplots(figsize=(9, 1), dpi=200)\n",
    "#     _ = plot_dendrogram(dendro=dendro.dendrogram,\n",
    "#                         linkage_df=dendro.linkage,\n",
    "#                         ax=ax,\n",
    "#                         plot_non_singleton=False,\n",
    "#                         line_hue=dendro.edge_stats['au'], # au is the branch confidence score, see pvclust documentation\n",
    "#                         line_hue_norm=(0.5, 1))\n",
    "#     plt.show()\n",
    "# except NameError:\n",
    "#     pass\n"
   ]
  }
 ],
 "metadata": {
  "celltoolbar": "Tags",
  "kernelspec": {
   "display_name": "Python 3.10.6 64-bit",
   "language": "python",
   "name": "python3"
  },
  "language_info": {
   "codemirror_mode": {
    "name": "ipython",
    "version": 3
   },
   "file_extension": ".py",
   "mimetype": "text/x-python",
   "name": "python",
   "nbconvert_exporter": "python",
   "pygments_lexer": "ipython3",
   "version": "3.10.6"
  },
  "papermill": {
   "default_parameters": {},
   "duration": 303.87648,
   "end_time": "2022-03-03T20:27:23.083828",
   "environment_variables": {},
   "exception": null,
   "input_path": "/gale/netapp/home/wtian/hba/clustering2/211224/template/06-cluster-annotatoin.ipynb",
   "output_path": "/gale/ddn/human_brain_atlas/clustering2/211224/clustering-level-L3/VLMC/06-cluster-annotatoin.ipynb",
   "parameters": {
    "adata_path": "./adata.with_coords.h5ad",
    "auto_annot_prefix": "VLMC",
    "cluster_col": "L3",
    "gene_annotation_path": "/gale/netapp/home/wtian/refs/human/hg38/gencode/v33/gencode.v33.basic.annotation.gene.flat.tsv.gz",
    "mc_type": "CHN",
    "mcds_path_list": [
     "/~/mcds/hba_pool18_h1930002_A1C.mcds",
     "/~/mcds/hba_pool76_h1930002_BL-La.mcds",
     "/~/mcds/hba_pool88_h1930002_A38.mcds",
     "/~/mcds/hba_pool2_h1930001_MTG.mcds",
     "/~/mcds/hba_pool49_h1930002_SI.mcds",
     "/~/mcds/hba_pool11_h1930001_ACC.mcds",
     "/~/mcds/hba_pool87_h1930001_CA1C-CA2C-CA3C-DGC-CA4C.mcds",
     "/~/mcds/hba_pool9_h1930001_FI.mcds",
     "/~/mcds/hba_pool84_h1930001_Idg.mcds",
     "/~/mcds/hba_pool23_h1930002_S1C.mcds",
     "/~/mcds/hba_pool59_h1930001_DGC-CA4Cpy.mcds",
     "/~/mcds/hba_pool39_h1930002_Pu.mcds",
     "/~/mcds/hba_pool56_h1930001_MEC.mcds",
     "/~/mcds/hba_pool46_h1930001_CBL.mcds",
     "/~/mcds/hba_pool26_h1930002_Pro.mcds",
     "/~/mcds/hba_pool71_h1930002_Cla.mcds",
     "/~/mcds/hba_pool48_h1930002_BNST_a.mcds",
     "/~/mcds/hba_pool54_h1930001_CMN.mcds",
     "/~/mcds/hba_pool50_h1930001_BM_a.mcds",
     "/~/mcds/hba_pool17_h1930001_A44-A45.mcds",
     "/~/mcds/hba_pool64_h1930002_IC.mcds",
     "/~/mcds/hba_pool66_h1930001_CA1R-CA2R-CA3R-DGR-CA4R.mcds",
     "/~/mcds/hba_pool7_h1930002_V2.mcds",
     "/~/mcds/hba_pool40_h1930001_TH-TL.mcds",
     "/~/mcds/hba_pool3_h1930001_CBV.mcds",
     "/~/mcds/hba_pool74_h1930001_IC.mcds",
     "/~/mcds/hba_pool13_h1930002_FI.mcds",
     "/~/mcds/hba_pool33_h1930002_A19.mcds",
     "/~/mcds/hba_pool3_h1930002_CBV.mcds",
     "/~/mcds/hba_pool65_h1930001_BL-La.mcds",
     "/~/mcds/hba_pool43_h1930002_CaB.mcds",
     "/~/mcds/hba_pool20_h1930001_A5-A7.mcds",
     "/~/mcds/hba_pool51_h1930002_CMN_a.mcds",
     "/~/mcds/hba_pool42_h1930001_CaB.mcds",
     "/~/mcds/hba_pool52_h1930002_MD-Re_a.mcds",
     "/~/mcds/hba_pool45_h1930001_SI.mcds",
     "/~/mcds/hba_pool38_h1930001_Pu.mcds",
     "/~/mcds/hba_pool8_h1930001_V1C.mcds",
     "/~/mcds/hba_pool12_h1930002_V1C.mcds",
     "/~/mcds/hba_pool10_h1930001_A46.mcds",
     "/~/mcds/hba_pool81_h1930002_A25.mcds",
     "/~/mcds/hba_pool69_h1930002_Amy.mcds",
     "/~/mcds/hba_pool86_h1930001_A25.mcds",
     "/~/mcds/hba_pool37_h1930002_GPe.mcds",
     "/~/mcds/hba_pool73_h1930002_CA1C-CA2C-CA3C-DGC-CA4C.mcds",
     "/~/mcds/hba_pool80_h1930002_Pul.mcds",
     "/~/mcds/hba_pool27_h1930002_Ig.mcds",
     "/~/mcds/hba_pool78_h1930002_PN.mcds",
     "/~/mcds/hba_pool90_h1930002_CBL.mcds",
     "/~/mcds/hba_pool29_h1930002_Pir.mcds",
     "/~/mcds/hba_pool22_h1930001_S1C.mcds",
     "/~/mcds/hba_pool67_h1930001_CA1C-CA2C-CA3C-DGC-CA4C.mcds",
     "/~/mcds/hba_pool4_h1930001_M1C.mcds",
     "/~/mcds/hba_pool85_h1930001_ITG.mcds",
     "/~/mcds/hba_pool61_h1930001_Sub.mcds",
     "/~/mcds/hba_pool41_h1930001_BNST_a.mcds",
     "/~/mcds/hba_pool82_h1930002_Idg.mcds",
     "/~/mcds/hba_pool44_h1930002_SEP.mcds",
     "/~/mcds/hba_pool55_h1930001_Pul.mcds",
     "/~/mcds/hba_pool47_h1930002_TH-TL.mcds",
     "/~/mcds/hba_pool25_h1930001_Pro.mcds",
     "/~/mcds/hba_pool36_h1930001_GPe.mcds",
     "/~/mcds/hba_pool58_h1930001_SEP.mcds",
     "/~/mcds/hba_pool75_h1930001_CA1R-CA2R-CA3R-DGR-CA4R.mcds",
     "/~/mcds/hba_pool1_h1930002_MTG.mcds",
     "/~/mcds/hba_pool14_h1930002_A46.mcds",
     "/~/mcds/hba_pool15_h1930002_ACC.mcds",
     "/~/mcds/hba_pool68_h1930001_Amy.mcds",
     "/~/mcds/hba_pool79_h1930001_MD_Re.mcds",
     "/~/mcds/hba_pool89_h1930002_ITG.mcds",
     "/~/mcds/hba_pool63_h1930002_CA1R-CA2R-CA3R.mcds",
     "/~/mcds/hba_pool31_h1930002_LEC.mcds",
     "/~/mcds/hba_pool16_h1930001_A1C.mcds",
     "/~/mcds/hba_pool6_h1930001_V2.mcds",
     "/~/mcds/hba_pool57_h1930002_MEC.mcds",
     "/~/mcds/hba_pool32_h1930001_A19.mcds",
     "/~/mcds/hba_pool62_h1930002_DGR-CA4Rpy.mcds",
     "/~/mcds/hba_pool30_h1930001_LEC.mcds",
     "/~/mcds/hba_pool72_h1930002_CA1C-CA2C-CA3C-DGC-CA4C.mcds",
     "/~/mcds/hba_pool60_h1930002_Sub.mcds",
     "/~/mcds/hba_pool53_h1930002_CEN_a.mcds",
     "/~/mcds/hba_pool28_h1930001_Pir.mcds",
     "/~/mcds/hba_pool77_h1930001_PN.mcds",
     "/~/mcds/hba_pool35_h1930002_NAC.mcds",
     "/~/mcds/hba_pool70_h1930001_Cla.mcds",
     "/~/mcds/hba_pool0_h1930002_CBV.mcds",
     "/~/mcds/hba_pool19_h1930002_A44-A45.mcds",
     "/~/mcds/hba_pool5_h1930002_M1C.mcds",
     "/~/mcds/hba_pool21_h1930002_A5-A7.mcds",
     "/~/mcds/hba_pool34_h1930001_NAC.mcds",
     "/~/mcds/hba_pool0_h1930001_CBV.mcds",
     "/~/mcds/hba_pool83_h1930001_A38.mcds",
     "/~/mcds/hba_pool24_h1930001_Ig.mcds"
    ],
    "metadata_path": "./CellMetadata.AfterQC.pdpkl",
    "n_samples": 20000,
    "obs_dim": "cell",
    "old_annot_path": "/gale/netapp/home/wtian/hba/clustering2/211014/cell_annotation_meta.pdpkl",
    "plot_top_n_markers": 10,
    "var_dim": "gene"
   },
   "start_time": "2022-03-03T20:22:19.207348",
   "version": "2.2.0"
  },
  "toc": {
   "base_numbering": 1,
   "nav_menu": {},
   "number_sections": true,
   "sideBar": true,
   "skip_h1_title": false,
   "title_cell": "Table of Contents",
   "title_sidebar": "Contents",
   "toc_cell": false,
   "toc_position": {},
   "toc_section_display": true,
   "toc_window_display": false
  },
  "vscode": {
   "interpreter": {
    "hash": "aee8b7b246df8f9039afb4144a1f6fd8d2ca17a180786b69acc140d282b71a49"
   }
  }
 },
 "nbformat": 4,
 "nbformat_minor": 5
}
