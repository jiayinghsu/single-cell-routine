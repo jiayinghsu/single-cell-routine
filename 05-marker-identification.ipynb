{
 "cells": [
  {
   "cell_type": "code",
   "execution_count": 1,
   "id": "40c9840d",
   "metadata": {
    "ExecuteTime": {
     "end_time": "2022-03-04T19:21:54.705732Z",
     "start_time": "2022-03-04T19:21:52.655395Z"
    },
    "execution": {
     "iopub.execute_input": "2022-03-04T19:02:22.376727Z",
     "iopub.status.busy": "2022-03-04T19:02:22.376337Z",
     "iopub.status.idle": "2022-03-04T19:02:24.400709Z",
     "shell.execute_reply": "2022-03-04T19:02:24.401059Z"
    },
    "papermill": {
     "duration": 2.073407,
     "end_time": "2022-03-04T19:02:24.401247",
     "exception": false,
     "start_time": "2022-03-04T19:02:22.327840",
     "status": "completed"
    },
    "tags": []
   },
   "outputs": [],
   "source": [
    "import numpy as np\n",
    "import pandas as pd\n",
    "import anndata\n",
    "import scanpy as sc\n",
    "from ALLCools.mcds import MCDS\n",
    "from ALLCools.clustering import one_vs_rest_dmg, PairwiseDMG\n",
    "\n",
    "\n",
    "import xarray as xr\n",
    "import pybedtools\n",
    "import dask\n",
    "from ALLCools.plot import *\n",
    "import pathlib\n",
    "import seaborn as sns\n",
    "import matplotlib.pyplot as plt\n"
   ]
  },
  {
   "cell_type": "code",
   "execution_count": 2,
   "id": "c3ecaa80",
   "metadata": {
    "ExecuteTime": {
     "end_time": "2022-03-04T19:21:54.711392Z",
     "start_time": "2022-03-04T19:21:54.707546Z"
    },
    "execution": {
     "iopub.execute_input": "2022-03-04T19:02:24.500899Z",
     "iopub.status.busy": "2022-03-04T19:02:24.500502Z",
     "iopub.status.idle": "2022-03-04T19:02:24.502110Z",
     "shell.execute_reply": "2022-03-04T19:02:24.501778Z"
    },
    "papermill": {
     "duration": 0.047575,
     "end_time": "2022-03-04T19:02:24.502210",
     "exception": false,
     "start_time": "2022-03-04T19:02:24.454635",
     "status": "completed"
    },
    "tags": [
     "parameters"
    ]
   },
   "outputs": [],
   "source": [
    "metadata_path = './CellMetadata.AfterQC.pdpkl'\n",
    "adata_path = './adata.with_coords.h5ad'\n",
    "cluster_col = 'L1'\n",
    "mc_type = None\n",
    "\n",
    "top_n_markers = 1000\n",
    "# auroc_cutoff = 0.8\n",
    "auroc_cutoff = 0.6\n",
    "\n",
    "# adj_p_cutoff = 0.001\n",
    "adj_p_cutoff = 0.05\n",
    "\n",
    "# fc_cutoff = 0.8\n",
    "fc_cutoff = 1\n",
    "\n",
    "max_cluster_cells = 2000\n",
    "max_other_fold = 5\n",
    "\n",
    "\n",
    "gene_annotation_path = '~/refs/human/hg38/gencode/v33/gencode.v33.basic.annotation.gene.flat.tsv.gz'\n",
    "obs_dim = 'cell'\n",
    "var_dim = 'gene'\n",
    "chrom_to_remove = ['chrM']\n",
    "\n",
    "min_cov = 5\n",
    "min_cov_ratio = 0.002\n",
    "\n",
    "\n",
    "mcds_path_list = [\n",
    "]\n",
    "\n",
    "gene_mcds_path_pattern = None\n",
    "\n",
    "\n",
    "pw_top_n_markers = 50\n",
    "pw_auroc_cutoff = 0.8\n",
    "pw_max_cell_per_group = 1000\n",
    "pw_adj_p_cutoff = 0.005\n",
    "pw_delta_rate_cutoff = 0.5\n",
    "random_state = 0\n",
    "n_jobs = 30\n"
   ]
  },
  {
   "cell_type": "code",
   "execution_count": 3,
   "id": "a4c65243",
   "metadata": {
    "ExecuteTime": {
     "end_time": "2022-03-04T19:21:54.722574Z",
     "start_time": "2022-03-04T19:21:54.712489Z"
    },
    "execution": {
     "iopub.execute_input": "2022-03-04T19:02:24.590270Z",
     "iopub.status.busy": "2022-03-04T19:02:24.584918Z",
     "iopub.status.idle": "2022-03-04T19:02:24.592141Z",
     "shell.execute_reply": "2022-03-04T19:02:24.592443Z"
    },
    "papermill": {
     "duration": 0.051113,
     "end_time": "2022-03-04T19:02:24.592555",
     "exception": false,
     "start_time": "2022-03-04T19:02:24.541442",
     "status": "completed"
    },
    "tags": [
     "injected-parameters"
    ]
   },
   "outputs": [],
   "source": [
    "# Parameters\n",
    "adata_path = \"./adata.with_coords.h5ad\"\n",
    "cluster_col = \"L3\"\n",
    "mc_type = None\n",
    "top_n_markers = 200\n",
    "auroc_cutoff = 0.7\n",
    "adj_p_cutoff = 0.01\n",
    "fc_cutoff = 0.8\n",
    "max_cluster_cells = 2000\n",
    "max_other_fold = 5\n",
    "gene_annotation_path = \"~/refs/human/hg38/gencode/v33/gencode.v33.basic.annotation.gene.flat.tsv.gz\"\n",
    "obs_dim = \"cell\"\n",
    "var_dim = \"gene\"\n",
    "chrom_to_remove = [\"chrM\"]\n",
    "min_cov = 5\n",
    "min_cov_ratio = 0.002\n",
    "mcds_path_list = [\n",
    "    \"~/mcds/hba_pool18_h1930002_A1C.mcds\",\n",
    "    \"~/mcds/hba_pool76_h1930002_BL-La.mcds\",\n",
    "    \"~/mcds/hba_pool88_h1930002_A38.mcds\",\n",
    "    \"~/mcds/hba_pool2_h1930001_MTG.mcds\",\n",
    "    \"~/mcds/hba_pool49_h1930002_SI.mcds\",\n",
    "    \"~/mcds/hba_pool11_h1930001_ACC.mcds\",\n",
    "    \"~/mcds/hba_pool87_h1930001_CA1C-CA2C-CA3C-DGC-CA4C.mcds\",\n",
    "    \"~/mcds/hba_pool9_h1930001_FI.mcds\",\n",
    "    \"~/mcds/hba_pool84_h1930001_Idg.mcds\",\n",
    "    \"~/mcds/hba_pool23_h1930002_S1C.mcds\",\n",
    "    \"~/mcds/hba_pool59_h1930001_DGC-CA4Cpy.mcds\",\n",
    "    \"~/mcds/hba_pool39_h1930002_Pu.mcds\",\n",
    "    \"~/mcds/hba_pool56_h1930001_MEC.mcds\",\n",
    "    \"~/mcds/hba_pool46_h1930001_CBL.mcds\",\n",
    "    \"~/mcds/hba_pool26_h1930002_Pro.mcds\",\n",
    "    \"~/mcds/hba_pool71_h1930002_Cla.mcds\",\n",
    "    \"~/mcds/hba_pool48_h1930002_BNST_a.mcds\",\n",
    "    \"~/mcds/hba_pool54_h1930001_CMN.mcds\",\n",
    "    \"~/mcds/hba_pool50_h1930001_BM_a.mcds\",\n",
    "    \"~/mcds/hba_pool17_h1930001_A44-A45.mcds\",\n",
    "    \"~/mcds/hba_pool64_h1930002_IC.mcds\",\n",
    "    \"~/mcds/hba_pool66_h1930001_CA1R-CA2R-CA3R-DGR-CA4R.mcds\",\n",
    "    \"~/mcds/hba_pool7_h1930002_V2.mcds\",\n",
    "    \"~/mcds/hba_pool40_h1930001_TH-TL.mcds\",\n",
    "    \"~/mcds/hba_pool3_h1930001_CBV.mcds\",\n",
    "    \"~/mcds/hba_pool74_h1930001_IC.mcds\",\n",
    "    \"~/mcds/hba_pool13_h1930002_FI.mcds\",\n",
    "    \"~/mcds/hba_pool33_h1930002_A19.mcds\",\n",
    "    \"~/mcds/hba_pool3_h1930002_CBV.mcds\",\n",
    "    \"~/mcds/hba_pool65_h1930001_BL-La.mcds\",\n",
    "    \"~/mcds/hba_pool43_h1930002_CaB.mcds\",\n",
    "    \"~/mcds/hba_pool20_h1930001_A5-A7.mcds\",\n",
    "    \"~/mcds/hba_pool51_h1930002_CMN_a.mcds\",\n",
    "    \"~/mcds/hba_pool42_h1930001_CaB.mcds\",\n",
    "    \"~/mcds/hba_pool52_h1930002_MD-Re_a.mcds\",\n",
    "    \"~/mcds/hba_pool45_h1930001_SI.mcds\",\n",
    "    \"~/mcds/hba_pool38_h1930001_Pu.mcds\",\n",
    "    \"~/mcds/hba_pool8_h1930001_V1C.mcds\",\n",
    "    \"~/mcds/hba_pool12_h1930002_V1C.mcds\",\n",
    "    \"~/mcds/hba_pool10_h1930001_A46.mcds\",\n",
    "    \"~/mcds/hba_pool81_h1930002_A25.mcds\",\n",
    "    \"~/mcds/hba_pool69_h1930002_Amy.mcds\",\n",
    "    \"~/mcds/hba_pool86_h1930001_A25.mcds\",\n",
    "    \"~/mcds/hba_pool37_h1930002_GPe.mcds\",\n",
    "    \"~/mcds/hba_pool73_h1930002_CA1C-CA2C-CA3C-DGC-CA4C.mcds\",\n",
    "    \"~/mcds/hba_pool80_h1930002_Pul.mcds\",\n",
    "    \"~/mcds/hba_pool27_h1930002_Ig.mcds\",\n",
    "    \"~/mcds/hba_pool78_h1930002_PN.mcds\",\n",
    "    \"~/mcds/hba_pool90_h1930002_CBL.mcds\",\n",
    "    \"~/mcds/hba_pool29_h1930002_Pir.mcds\",\n",
    "    \"~/mcds/hba_pool22_h1930001_S1C.mcds\",\n",
    "    \"~/mcds/hba_pool67_h1930001_CA1C-CA2C-CA3C-DGC-CA4C.mcds\",\n",
    "    \"~/mcds/hba_pool4_h1930001_M1C.mcds\",\n",
    "    \"~/mcds/hba_pool85_h1930001_ITG.mcds\",\n",
    "    \"~/mcds/hba_pool61_h1930001_Sub.mcds\",\n",
    "    \"~/mcds/hba_pool41_h1930001_BNST_a.mcds\",\n",
    "    \"~/mcds/hba_pool82_h1930002_Idg.mcds\",\n",
    "    \"~/mcds/hba_pool44_h1930002_SEP.mcds\",\n",
    "    \"~/mcds/hba_pool55_h1930001_Pul.mcds\",\n",
    "    \"~/mcds/hba_pool47_h1930002_TH-TL.mcds\",\n",
    "    \"~/mcds/hba_pool25_h1930001_Pro.mcds\",\n",
    "    \"~/mcds/hba_pool36_h1930001_GPe.mcds\",\n",
    "    \"~/mcds/hba_pool58_h1930001_SEP.mcds\",\n",
    "    \"~/mcds/hba_pool75_h1930001_CA1R-CA2R-CA3R-DGR-CA4R.mcds\",\n",
    "    \"~/mcds/hba_pool1_h1930002_MTG.mcds\",\n",
    "    \"~/mcds/hba_pool14_h1930002_A46.mcds\",\n",
    "    \"~/mcds/hba_pool15_h1930002_ACC.mcds\",\n",
    "    \"~/mcds/hba_pool68_h1930001_Amy.mcds\",\n",
    "    \"~/mcds/hba_pool79_h1930001_MD_Re.mcds\",\n",
    "    \"~/mcds/hba_pool89_h1930002_ITG.mcds\",\n",
    "    \"~/mcds/hba_pool63_h1930002_CA1R-CA2R-CA3R.mcds\",\n",
    "    \"~/mcds/hba_pool31_h1930002_LEC.mcds\",\n",
    "    \"~/mcds/hba_pool16_h1930001_A1C.mcds\",\n",
    "    \"~/mcds/hba_pool6_h1930001_V2.mcds\",\n",
    "    \"~/mcds/hba_pool57_h1930002_MEC.mcds\",\n",
    "    \"~/mcds/hba_pool32_h1930001_A19.mcds\",\n",
    "    \"~/mcds/hba_pool62_h1930002_DGR-CA4Rpy.mcds\",\n",
    "    \"~/mcds/hba_pool30_h1930001_LEC.mcds\",\n",
    "    \"~/mcds/hba_pool72_h1930002_CA1C-CA2C-CA3C-DGC-CA4C.mcds\",\n",
    "    \"~/mcds/hba_pool60_h1930002_Sub.mcds\",\n",
    "    \"~/mcds/hba_pool53_h1930002_CEN_a.mcds\",\n",
    "    \"~/mcds/hba_pool28_h1930001_Pir.mcds\",\n",
    "    \"~/mcds/hba_pool77_h1930001_PN.mcds\",\n",
    "    \"~/mcds/hba_pool35_h1930002_NAC.mcds\",\n",
    "    \"~/mcds/hba_pool70_h1930001_Cla.mcds\",\n",
    "    \"~/mcds/hba_pool0_h1930002_CBV.mcds\",\n",
    "    \"~/mcds/hba_pool19_h1930002_A44-A45.mcds\",\n",
    "    \"~/mcds/hba_pool5_h1930002_M1C.mcds\",\n",
    "    \"~/mcds/hba_pool21_h1930002_A5-A7.mcds\",\n",
    "    \"~/mcds/hba_pool34_h1930001_NAC.mcds\",\n",
    "    \"~/mcds/hba_pool0_h1930001_CBV.mcds\",\n",
    "    \"~/mcds/hba_pool83_h1930001_A38.mcds\",\n",
    "    \"~/mcds/hba_pool24_h1930001_Ig.mcds\",\n",
    "]"
   ]
  },
  {
   "cell_type": "code",
   "execution_count": 4,
   "id": "0862c563",
   "metadata": {
    "ExecuteTime": {
     "end_time": "2022-03-04T19:21:54.728408Z",
     "start_time": "2022-03-04T19:21:54.724006Z"
    },
    "execution": {
     "iopub.execute_input": "2022-03-04T19:02:24.678150Z",
     "iopub.status.busy": "2022-03-04T19:02:24.677769Z",
     "iopub.status.idle": "2022-03-04T19:02:24.678970Z",
     "shell.execute_reply": "2022-03-04T19:02:24.679274Z"
    },
    "papermill": {
     "duration": 0.045136,
     "end_time": "2022-03-04T19:02:24.679385",
     "exception": false,
     "start_time": "2022-03-04T19:02:24.634249",
     "status": "completed"
    },
    "tags": []
   },
   "outputs": [],
   "source": [
    "if mc_type is None:\n",
    "    mc_types = ['CHN','CGN']\n",
    "else:\n",
    "    mc_types = [mc_type]"
   ]
  },
  {
   "cell_type": "code",
   "execution_count": 5,
   "id": "405ab7b5",
   "metadata": {
    "ExecuteTime": {
     "end_time": "2022-03-04T19:21:54.733697Z",
     "start_time": "2022-03-04T19:21:54.729428Z"
    },
    "execution": {
     "iopub.execute_input": "2022-03-04T19:02:24.764325Z",
     "iopub.status.busy": "2022-03-04T19:02:24.763953Z",
     "iopub.status.idle": "2022-03-04T19:02:24.765163Z",
     "shell.execute_reply": "2022-03-04T19:02:24.765463Z"
    },
    "papermill": {
     "duration": 0.037196,
     "end_time": "2022-03-04T19:02:24.765572",
     "exception": false,
     "start_time": "2022-03-04T19:02:24.728376",
     "status": "completed"
    },
    "tags": []
   },
   "outputs": [],
   "source": [
    "if gene_mcds_path_pattern is None:\n",
    "    gene_mcds_path_pattern = [x.replace('.mcds','.gene_da_rate.mcds').replace('mcds/','gene_mcds/') \\\n",
    "                              for x in mcds_path_list]"
   ]
  },
  {
   "cell_type": "code",
   "execution_count": 6,
   "id": "03e1fcee",
   "metadata": {
    "ExecuteTime": {
     "end_time": "2022-03-04T19:21:54.772075Z",
     "start_time": "2022-03-04T19:21:54.734766Z"
    },
    "execution": {
     "iopub.execute_input": "2022-03-04T19:02:24.851613Z",
     "iopub.status.busy": "2022-03-04T19:02:24.850539Z",
     "iopub.status.idle": "2022-03-04T19:02:24.885412Z",
     "shell.execute_reply": "2022-03-04T19:02:24.885711Z"
    },
    "papermill": {
     "duration": 0.078488,
     "end_time": "2022-03-04T19:02:24.885827",
     "exception": false,
     "start_time": "2022-03-04T19:02:24.807339",
     "status": "completed"
    },
    "tags": []
   },
   "outputs": [],
   "source": [
    "adata = anndata.read_h5ad(adata_path)"
   ]
  },
  {
   "cell_type": "code",
   "execution_count": 7,
   "id": "bd89906b",
   "metadata": {
    "ExecuteTime": {
     "end_time": "2022-03-04T19:21:55.057854Z",
     "start_time": "2022-03-04T19:21:54.773259Z"
    },
    "execution": {
     "iopub.execute_input": "2022-03-04T19:02:25.049340Z",
     "iopub.status.busy": "2022-03-04T19:02:25.048958Z",
     "iopub.status.idle": "2022-03-04T19:02:25.325859Z",
     "shell.execute_reply": "2022-03-04T19:02:25.325471Z"
    },
    "papermill": {
     "duration": 0.314065,
     "end_time": "2022-03-04T19:02:25.325974",
     "exception": false,
     "start_time": "2022-03-04T19:02:25.011909",
     "status": "completed"
    },
    "tags": []
   },
   "outputs": [],
   "source": [
    "gene_meta = pd.read_csv(gene_annotation_path, index_col='gene_id', sep='\\t')\n",
    "# gene_meta.index = gene_meta['gene']\n",
    "gene_name_to_id = {v:k for k, v in gene_meta['gene_name'].iteritems()}\n",
    "gene_id_to_name = {k:v for k, v in gene_meta['gene_name'].iteritems()}\n",
    "gene_id_base_to_id = pd.Series(gene_meta.index, index = gene_meta.index.map(lambda i: i.split('.')[0])).to_dict()"
   ]
  },
  {
   "cell_type": "code",
   "execution_count": 8,
   "id": "9c6c8106",
   "metadata": {
    "ExecuteTime": {
     "end_time": "2022-03-04T19:21:57.642956Z",
     "start_time": "2022-03-04T19:21:55.059075Z"
    },
    "execution": {
     "iopub.execute_input": "2022-03-04T19:02:25.520168Z",
     "iopub.status.busy": "2022-03-04T19:02:25.519777Z",
     "iopub.status.idle": "2022-03-04T19:02:28.055946Z",
     "shell.execute_reply": "2022-03-04T19:02:28.056263Z"
    },
    "papermill": {
     "duration": 2.583755,
     "end_time": "2022-03-04T19:02:28.056393",
     "exception": false,
     "start_time": "2022-03-04T19:02:25.472638",
     "status": "completed"
    },
    "tags": []
   },
   "outputs": [
    {
     "name": "stdout",
     "output_type": "stream",
     "text": [
      "39059 features remained\n"
     ]
    }
   ],
   "source": [
    "genes_to_skip = set()\n",
    "\n",
    "# skip smaller genes mostly covered by a larger gene, e.g., a miRNA within a protein coding gene.\n",
    "# F=0.9 means > 90% of gene_b is overlapped with gene_a, in this case, we only keep gene_a for DMG test\n",
    "gene_bed = pybedtools.BedTool.from_dataframe(\n",
    "    gene_meta.reset_index()[['chrom', 'start', 'end', 'gene_id']])\n",
    "mapped_bam = gene_bed.map(b=gene_bed, c=4, o='distinct', F=0.9)\n",
    "for _, (*_, gene_a, gene_b_str) in mapped_bam.to_dataframe().iterrows():\n",
    "    for gene_b in gene_b_str.split(','):\n",
    "        if gene_b != gene_a:\n",
    "            genes_to_skip.add(gene_b)\n",
    "\n",
    "# remove certain chromosomes\n",
    "genes_to_skip |= set(gene_meta.index[gene_meta['chrom'].isin(chrom_to_remove)])\n",
    "use_features = gene_meta.index[~gene_meta.index.isin(genes_to_skip)]\n",
    "print(f'{use_features.size} features remained')"
   ]
  },
  {
   "cell_type": "code",
   "execution_count": 9,
   "id": "3c4355b1",
   "metadata": {
    "ExecuteTime": {
     "end_time": "2022-03-04T19:26:46.926400Z",
     "start_time": "2022-03-04T19:21:57.644679Z"
    },
    "execution": {
     "iopub.execute_input": "2022-03-04T19:02:28.148638Z",
     "iopub.status.busy": "2022-03-04T19:02:28.148252Z",
     "iopub.status.idle": "2022-03-04T19:07:20.646724Z",
     "shell.execute_reply": "2022-03-04T19:07:20.647055Z"
    },
    "papermill": {
     "duration": 292.547191,
     "end_time": "2022-03-04T19:07:20.647251",
     "exception": false,
     "start_time": "2022-03-04T19:02:28.100060",
     "status": "completed"
    },
    "tags": []
   },
   "outputs": [
    {
     "name": "stdout",
     "output_type": "stream",
     "text": [
      "Feature gene mean cov across cells added in MCDS.coords['gene_cov_mean'].\n"
     ]
    },
    {
     "name": "stderr",
     "output_type": "stream",
     "text": [
      "/data/wtian/local/miniconda3/envs/sapiens/lib/python3.8/site-packages/seaborn/_decorators.py:36: FutureWarning: Pass the following variables as keyword args: x, y. From version 0.12, the only valid positional argument will be `data`, and passing other arguments without an explicit keyword will result in an error or misinterpretation.\n",
      "  warnings.warn(\n"
     ]
    },
    {
     "data": {
      "image/png": "[encoded data removed]",
      "text/plain": [
       "<Figure size 432x288 with 2 Axes>"
      ]
     },
     "metadata": {
      "needs_background": "light"
     },
     "output_type": "display_data"
    },
    {
     "data": {
      "image/png": "[encoded data removed]",
      "text/plain": [
       "<Figure size 432x432 with 3 Axes>"
      ]
     },
     "metadata": {
      "needs_background": "light"
     },
     "output_type": "display_data"
    },
    {
     "name": "stdout",
     "output_type": "stream",
     "text": [
      "31427 features remained\n"
     ]
    },
    {
     "name": "stderr",
     "output_type": "stream",
     "text": [
      "/gale/netapp/home/wtian/sapiens/systmp/ipykernel_81753/3891784799.py:19: FutureWarning: Index.__and__ operating as a set operation is deprecated, in the future this will be a logical operation matching Series.__and__.  Use index.intersection(other) instead\n",
      "  use_features &= feature_cov_mean[feature_cov_mean > min_cov].index\n",
      "/gale/netapp/home/wtian/sapiens/systmp/ipykernel_81753/3891784799.py:20: FutureWarning: Index.__and__ operating as a set operation is deprecated, in the future this will be a logical operation matching Series.__and__.  Use index.intersection(other) instead\n",
      "  use_features &= feature_cov_mean[feature_cov_mean > min_cov_ratio].index\n"
     ]
    }
   ],
   "source": [
    "with dask.config.set(**{'array.slicing.split_large_chunks': False}):\n",
    "    # still use all the cells to load MCDS\n",
    "    mcds = MCDS.open(mcds_path_list, obs_dim=obs_dim,)\n",
    "    use_cells = mcds.get_index('cell')\n",
    "    use_genes = mcds.get_index('gene')\n",
    "    use_cells = use_cells[use_cells.isin(adata.obs.index)]\n",
    "    use_genes = use_genes[use_genes.isin(use_features)]\n",
    "    mcds = mcds.sel({obs_dim:use_cells}).sel({var_dim: use_genes})\n",
    "mcds.add_feature_cov_mean(var_dim=var_dim)\n",
    "\n",
    "feature_cov_mean = mcds.coords[f'{var_dim}_cov_mean'].to_pandas()\n",
    "feature_len = (mcds.coords['gene_end']-mcds.coords['gene_start']).to_pandas()\n",
    "feature_cov_ratio = feature_cov_mean/feature_len\n",
    "\n",
    "sns.jointplot(feature_cov_mean/feature_len, feature_cov_mean, kind='hex', gridsize=100, vmax=500)\n",
    "plt.show()\n",
    "\n",
    "\n",
    "use_features &= feature_cov_mean[feature_cov_mean > min_cov].index\n",
    "use_features &= feature_cov_mean[feature_cov_mean > min_cov_ratio].index\n",
    "\n",
    "print(f'{use_features.size} features remained')"
   ]
  },
  {
   "cell_type": "code",
   "execution_count": 10,
   "id": "bfa80393",
   "metadata": {
    "ExecuteTime": {
     "end_time": "2022-03-04T19:27:06.568517Z",
     "start_time": "2022-03-04T19:26:46.928990Z"
    },
    "execution": {
     "iopub.execute_input": "2022-03-04T19:07:20.746753Z",
     "iopub.status.busy": "2022-03-04T19:07:20.746364Z",
     "iopub.status.idle": "2022-03-04T19:07:39.099191Z",
     "shell.execute_reply": "2022-03-04T19:07:39.098803Z"
    },
    "papermill": {
     "duration": 18.403913,
     "end_time": "2022-03-04T19:07:39.099308",
     "exception": false,
     "start_time": "2022-03-04T19:07:20.695395",
     "status": "completed"
    },
    "tags": []
   },
   "outputs": [],
   "source": [
    "mcds = MCDS.open(gene_mcds_path_pattern, obs_dim=obs_dim)\n",
    "use_cells = mcds.get_index('cell')\n",
    "use_cells = use_cells[use_cells.isin(adata.obs_names)]\n",
    "use_genes2 = mcds.get_index('gene')\n",
    "use_genes = use_genes2[use_genes2.isin(use_genes)]\n",
    "with dask.config.set(**{'array.slicing.split_large_chunks': True}):\n",
    "    mcds = mcds.sel({obs_dim:use_cells}).sel({var_dim:use_genes})"
   ]
  },
  {
   "cell_type": "code",
   "execution_count": 14,
   "id": "4ba3dbd8",
   "metadata": {
    "ExecuteTime": {
     "end_time": "2022-03-04T19:32:53.140761Z",
     "start_time": "2022-03-04T19:32:53.137079Z"
    },
    "execution": {
     "iopub.execute_input": "2022-03-04T19:07:39.203205Z",
     "iopub.status.busy": "2022-03-04T19:07:39.202819Z",
     "iopub.status.idle": "2022-03-04T19:07:39.782595Z",
     "shell.execute_reply": "2022-03-04T19:07:39.782088Z"
    },
    "papermill": {
     "duration": 0.634134,
     "end_time": "2022-03-04T19:07:39.782800",
     "exception": true,
     "start_time": "2022-03-04T19:07:39.148666",
     "status": "failed"
    },
    "tags": []
   },
   "outputs": [],
   "source": [
    "pw_dmg_tables = {}\n",
    "if len(adata.obs[cluster_col].unique())>1:\n",
    "    mcds = mcds.chunk(1000)\n",
    "    for mc_type in mc_types:\n",
    "        pwdmg = PairwiseDMG(max_cell_per_group = pw_max_cell_per_group,\n",
    "                            top_n=pw_top_n_markers,\n",
    "                            adj_p_cutoff=pw_adj_p_cutoff,\n",
    "                            delta_rate_cutoff=pw_delta_rate_cutoff,\n",
    "                            auroc_cutoff=pw_auroc_cutoff,\n",
    "                            random_state=random_state,\n",
    "                            n_jobs=n_jobs)\n",
    "        pwdmg.fit_predict(x=mcds[f'{var_dim}_da_frac'].sel(mc_type=mc_type), \n",
    "                          groups=adata.obs[cluster_col])\n",
    "        pw_dmg_tables[mc_type] = pwdmg.dmg_table"
   ]
  },
  {
   "cell_type": "code",
   "execution_count": 16,
   "id": "d4e2aec3",
   "metadata": {
    "ExecuteTime": {
     "end_time": "2022-03-04T19:33:46.320425Z",
     "start_time": "2022-03-04T19:33:46.315541Z"
    },
    "execution": {
     "iopub.execute_input": "2022-03-02T20:52:52.206819Z",
     "iopub.status.busy": "2022-03-02T20:52:52.191335Z",
     "iopub.status.idle": "2022-03-02T21:18:49.159499Z",
     "shell.execute_reply": "2022-03-02T21:18:49.160062Z"
    },
    "papermill": {
     "duration": null,
     "end_time": null,
     "exception": null,
     "start_time": null,
     "status": "pending"
    },
    "tags": []
   },
   "outputs": [],
   "source": [
    "ovr_dmg_tables = {}\n",
    "if len(adata.obs[cluster_col].unique())>1:\n",
    "    for mc_type in mc_types:\n",
    "        ovr_dmg_tables[mc_type] = one_vs_rest_dmg(adata.obs,\n",
    "                                              group=cluster_col,\n",
    "                                              mcds=mcds,\n",
    "                                              obs_dim=obs_dim,\n",
    "                                              var_dim=var_dim,\n",
    "                                              mc_type=mc_type,\n",
    "                                              top_n=top_n_markers,\n",
    "                                              adj_p_cutoff=adj_p_cutoff,\n",
    "                                              fc_cutoff=fc_cutoff,\n",
    "                                              auroc_cutoff=auroc_cutoff,\n",
    "                                              max_cluster_cells=max_cluster_cells,\n",
    "                                              max_other_fold=max_other_fold)\n"
   ]
  },
  {
   "cell_type": "code",
   "execution_count": 17,
   "id": "cfe6120a",
   "metadata": {
    "ExecuteTime": {
     "end_time": "2022-03-04T19:34:01.958002Z",
     "start_time": "2022-03-04T19:34:01.954704Z"
    },
    "execution": {
     "iopub.execute_input": "2022-03-02T21:18:49.350024Z",
     "iopub.status.busy": "2022-03-02T21:18:49.349615Z",
     "iopub.status.idle": "2022-03-02T21:18:49.371534Z",
     "shell.execute_reply": "2022-03-02T21:18:49.372021Z"
    },
    "papermill": {
     "duration": null,
     "end_time": null,
     "exception": null,
     "start_time": null,
     "status": "pending"
    },
    "tags": []
   },
   "outputs": [],
   "source": [
    "for mc_type in ovr_dmg_tables:\n",
    "    ovr_dmg_tables[mc_type].to_pickle(f'{cluster_col}.{mc_type}.OneVsRestDMG.pdpkl')"
   ]
  },
  {
   "cell_type": "code",
   "execution_count": 18,
   "id": "1a91d7e3",
   "metadata": {
    "ExecuteTime": {
     "end_time": "2022-03-04T19:34:02.162884Z",
     "start_time": "2022-03-04T19:34:02.160648Z"
    },
    "execution": {
     "iopub.execute_input": "2022-03-02T21:18:49.572021Z",
     "iopub.status.busy": "2022-03-02T21:18:49.571062Z",
     "iopub.status.idle": "2022-03-02T21:18:49.574696Z",
     "shell.execute_reply": "2022-03-02T21:18:49.575075Z"
    },
    "papermill": {
     "duration": null,
     "end_time": null,
     "exception": null,
     "start_time": null,
     "status": "pending"
    },
    "tags": []
   },
   "outputs": [],
   "source": [
    "for mc_type in ovr_dmg_tables:\n",
    "    print(ovr_dmg_tables[mc_type]['cluster'].value_counts())"
   ]
  },
  {
   "cell_type": "code",
   "execution_count": 19,
   "id": "29a385d5",
   "metadata": {
    "ExecuteTime": {
     "end_time": "2022-03-04T19:34:02.636025Z",
     "start_time": "2022-03-04T19:34:02.633842Z"
    },
    "papermill": {
     "duration": null,
     "end_time": null,
     "exception": null,
     "start_time": null,
     "status": "pending"
    },
    "tags": []
   },
   "outputs": [],
   "source": [
    "for mc_type in pw_dmg_tables:\n",
    "    pw_dmg_tables[mc_type].to_pickle(f'{cluster_col}.{mc_type}.PairwiseDMG.pdpkl')"
   ]
  }
 ],
 "metadata": {
  "celltoolbar": "Tags",
  "kernelspec": {
   "display_name": "Python 3 (ipykernel)",
   "language": "python",
   "name": "python3"
  },
  "language_info": {
   "codemirror_mode": {
    "name": "ipython",
    "version": 3
   },
   "file_extension": ".py",
   "mimetype": "text/x-python",
   "name": "python",
   "nbconvert_exporter": "python",
   "pygments_lexer": "ipython3",
   "version": "3.8.12"
  },
  "papermill": {
   "default_parameters": {},
   "duration": 319.546033,
   "end_time": "2022-03-04T19:07:40.940522",
   "environment_variables": {},
   "exception": true,
   "input_path": "/gale/netapp/home/wtian/hba/clustering2/211224/template/05-marker-identification.ipynb",
   "output_path": "/gale/ddn/human_brain_atlas/clustering2/211224/clustering-level-L3/NonN_Mix/05-marker-identification.ipynb",
   "parameters": {
    "adata_path": "./adata.with_coords.h5ad",
    "adj_p_cutoff": 0.01,
    "auroc_cutoff": 0.7,
    "chrom_to_remove": [
     "chrM"
    ],
    "cluster_col": "L3",
    "fc_cutoff": 0.8,
    "gene_annotation_path": "/gale/netapp/home/wtian/refs/human/hg38/gencode/v33/gencode.v33.basic.annotation.gene.flat.tsv.gz",
    "max_cluster_cells": 2000,
    "max_other_fold": 5,
    "mc_type": null,
    "mcds_path_list": [
     "/~/mcds/hba_pool18_h1930002_A1C.mcds",
     "/~/mcds/hba_pool76_h1930002_BL-La.mcds",
     "/~/mcds/hba_pool88_h1930002_A38.mcds",
     "/~/mcds/hba_pool2_h1930001_MTG.mcds",
     "/~/mcds/hba_pool49_h1930002_SI.mcds",
     "/~/mcds/hba_pool11_h1930001_ACC.mcds",
     "/~/mcds/hba_pool87_h1930001_CA1C-CA2C-CA3C-DGC-CA4C.mcds",
     "/~/mcds/hba_pool9_h1930001_FI.mcds",
     "/~/mcds/hba_pool84_h1930001_Idg.mcds",
     "/~/mcds/hba_pool23_h1930002_S1C.mcds",
     "/~/mcds/hba_pool59_h1930001_DGC-CA4Cpy.mcds",
     "/~/mcds/hba_pool39_h1930002_Pu.mcds",
     "/~/mcds/hba_pool56_h1930001_MEC.mcds",
     "/~/mcds/hba_pool46_h1930001_CBL.mcds",
     "/~/mcds/hba_pool26_h1930002_Pro.mcds",
     "/~/mcds/hba_pool71_h1930002_Cla.mcds",
     "/~/mcds/hba_pool48_h1930002_BNST_a.mcds",
     "/~/mcds/hba_pool54_h1930001_CMN.mcds",
     "/~/mcds/hba_pool50_h1930001_BM_a.mcds",
     "/~/mcds/hba_pool17_h1930001_A44-A45.mcds",
     "/~/mcds/hba_pool64_h1930002_IC.mcds",
     "/~/mcds/hba_pool66_h1930001_CA1R-CA2R-CA3R-DGR-CA4R.mcds",
     "/~/mcds/hba_pool7_h1930002_V2.mcds",
     "/~/mcds/hba_pool40_h1930001_TH-TL.mcds",
     "/~/mcds/hba_pool3_h1930001_CBV.mcds",
     "/~/mcds/hba_pool74_h1930001_IC.mcds",
     "/~/mcds/hba_pool13_h1930002_FI.mcds",
     "/~/mcds/hba_pool33_h1930002_A19.mcds",
     "/~/mcds/hba_pool3_h1930002_CBV.mcds",
     "/~/mcds/hba_pool65_h1930001_BL-La.mcds",
     "/~/mcds/hba_pool43_h1930002_CaB.mcds",
     "/~/mcds/hba_pool20_h1930001_A5-A7.mcds",
     "/~/mcds/hba_pool51_h1930002_CMN_a.mcds",
     "/~/mcds/hba_pool42_h1930001_CaB.mcds",
     "/~/mcds/hba_pool52_h1930002_MD-Re_a.mcds",
     "/~/mcds/hba_pool45_h1930001_SI.mcds",
     "/~/mcds/hba_pool38_h1930001_Pu.mcds",
     "/~/mcds/hba_pool8_h1930001_V1C.mcds",
     "/~/mcds/hba_pool12_h1930002_V1C.mcds",
     "/~/mcds/hba_pool10_h1930001_A46.mcds",
     "/~/mcds/hba_pool81_h1930002_A25.mcds",
     "/~/mcds/hba_pool69_h1930002_Amy.mcds",
     "/~/mcds/hba_pool86_h1930001_A25.mcds",
     "/~/mcds/hba_pool37_h1930002_GPe.mcds",
     "/~/mcds/hba_pool73_h1930002_CA1C-CA2C-CA3C-DGC-CA4C.mcds",
     "/~/mcds/hba_pool80_h1930002_Pul.mcds",
     "/~/mcds/hba_pool27_h1930002_Ig.mcds",
     "/~/mcds/hba_pool78_h1930002_PN.mcds",
     "/~/mcds/hba_pool90_h1930002_CBL.mcds",
     "/~/mcds/hba_pool29_h1930002_Pir.mcds",
     "/~/mcds/hba_pool22_h1930001_S1C.mcds",
     "/~/mcds/hba_pool67_h1930001_CA1C-CA2C-CA3C-DGC-CA4C.mcds",
     "/~/mcds/hba_pool4_h1930001_M1C.mcds",
     "/~/mcds/hba_pool85_h1930001_ITG.mcds",
     "/~/mcds/hba_pool61_h1930001_Sub.mcds",
     "/~/mcds/hba_pool41_h1930001_BNST_a.mcds",
     "/~/mcds/hba_pool82_h1930002_Idg.mcds",
     "/~/mcds/hba_pool44_h1930002_SEP.mcds",
     "/~/mcds/hba_pool55_h1930001_Pul.mcds",
     "/~/mcds/hba_pool47_h1930002_TH-TL.mcds",
     "/~/mcds/hba_pool25_h1930001_Pro.mcds",
     "/~/mcds/hba_pool36_h1930001_GPe.mcds",
     "/~/mcds/hba_pool58_h1930001_SEP.mcds",
     "/~/mcds/hba_pool75_h1930001_CA1R-CA2R-CA3R-DGR-CA4R.mcds",
     "/~/mcds/hba_pool1_h1930002_MTG.mcds",
     "/~/mcds/hba_pool14_h1930002_A46.mcds",
     "/~/mcds/hba_pool15_h1930002_ACC.mcds",
     "/~/mcds/hba_pool68_h1930001_Amy.mcds",
     "/~/mcds/hba_pool79_h1930001_MD_Re.mcds",
     "/~/mcds/hba_pool89_h1930002_ITG.mcds",
     "/~/mcds/hba_pool63_h1930002_CA1R-CA2R-CA3R.mcds",
     "/~/mcds/hba_pool31_h1930002_LEC.mcds",
     "/~/mcds/hba_pool16_h1930001_A1C.mcds",
     "/~/mcds/hba_pool6_h1930001_V2.mcds",
     "/~/mcds/hba_pool57_h1930002_MEC.mcds",
     "/~/mcds/hba_pool32_h1930001_A19.mcds",
     "/~/mcds/hba_pool62_h1930002_DGR-CA4Rpy.mcds",
     "/~/mcds/hba_pool30_h1930001_LEC.mcds",
     "/~/mcds/hba_pool72_h1930002_CA1C-CA2C-CA3C-DGC-CA4C.mcds",
     "/~/mcds/hba_pool60_h1930002_Sub.mcds",
     "/~/mcds/hba_pool53_h1930002_CEN_a.mcds",
     "/~/mcds/hba_pool28_h1930001_Pir.mcds",
     "/~/mcds/hba_pool77_h1930001_PN.mcds",
     "/~/mcds/hba_pool35_h1930002_NAC.mcds",
     "/~/mcds/hba_pool70_h1930001_Cla.mcds",
     "/~/mcds/hba_pool0_h1930002_CBV.mcds",
     "/~/mcds/hba_pool19_h1930002_A44-A45.mcds",
     "/~/mcds/hba_pool5_h1930002_M1C.mcds",
     "/~/mcds/hba_pool21_h1930002_A5-A7.mcds",
     "/~/mcds/hba_pool34_h1930001_NAC.mcds",
     "/~/mcds/hba_pool0_h1930001_CBV.mcds",
     "/~/mcds/hba_pool83_h1930001_A38.mcds",
     "/~/mcds/hba_pool24_h1930001_Ig.mcds"
    ],
    "min_cov": 5,
    "min_cov_ratio": 0.002,
    "obs_dim": "cell",
    "top_n_markers": 200,
    "var_dim": "gene"
   },
   "start_time": "2022-03-04T19:02:21.394489",
   "version": "2.3.3"
  },
  "toc": {
   "base_numbering": 1,
   "nav_menu": {},
   "number_sections": true,
   "sideBar": true,
   "skip_h1_title": false,
   "title_cell": "Table of Contents",
   "title_sidebar": "Contents",
   "toc_cell": false,
   "toc_position": {},
   "toc_section_display": true,
   "toc_window_display": false
  }
 },
 "nbformat": 4,
 "nbformat_minor": 5
}
