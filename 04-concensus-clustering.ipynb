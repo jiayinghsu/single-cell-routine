{
 "cells": [
  {
   "cell_type": "code",
   "execution_count": null,
   "metadata": {
    "ExecuteTime": {
     "end_time": "2021-09-01T20:55:49.336245Z",
     "start_time": "2021-09-01T20:55:30.995681Z"
    },
    "scrolled": true
   },
   "outputs": [],
   "source": [
    "import pathlib\n",
    "import anndata\n",
    "import numpy as np\n",
    "import pandas as pd\n",
    "import seaborn as sns\n",
    "import matplotlib.pyplot as plt\n",
    "import scanpy as sc\n",
    "\n",
    "from ALLCools.clustering import ConsensusClustering, Dendrogram, get_pc_centers\n",
    "from ALLCools.plot import *"
   ]
  },
  {
   "cell_type": "code",
   "execution_count": null,
   "metadata": {
    "ExecuteTime": {
     "end_time": "2021-09-01T21:00:20.174450Z",
     "start_time": "2021-09-01T21:00:20.165877Z"
    },
    "tags": [
     "parameters"
    ]
   },
   "outputs": [],
   "source": [
    "# clustering name\n",
    "clustering_name = 'L1'\n",
    "\n",
    "# input data\n",
    "metadata_path = './CellMetadata.AfterQC.pdpkl'\n",
    "\n",
    "adata_path = './adata.with_coords.h5ad'\n",
    "coord_base = 'tsne'\n",
    "\n",
    "# ConsensusClustering\n",
    "# Important factores\n",
    "n_neighbors = 25\n",
    "leiden_resolution = 1\n",
    "# this parameter is the final target that limit the total number of clusters\n",
    "# Higher accuracy means more conservative clustering results and less number of clusters\n",
    "target_accuracy = 0.96\n",
    "min_cluster_size = 20\n",
    "\n",
    "# Other ConsensusClustering parameters\n",
    "metric = 'euclidean'\n",
    "consensus_rate = 0.7\n",
    "leiden_repeats = 500\n",
    "random_state = 0\n",
    "train_frac = 0.5\n",
    "train_max_n = 500\n",
    "max_iter = 50\n",
    "n_jobs = 40\n",
    "\n",
    "# Dendrogram via Multiscale Bootstrap Resampling\n",
    "nboot = 10000\n",
    "method_dist = 'correlation'\n",
    "method_hclust = 'average'\n",
    "\n",
    "plot_type = 'static'\n",
    "\n",
    "plot_merge_steps = False"
   ]
  },
  {
   "cell_type": "code",
   "execution_count": null,
   "metadata": {
    "ExecuteTime": {
     "end_time": "2021-09-01T21:00:45.072377Z",
     "start_time": "2021-09-01T21:00:44.756952Z"
    }
   },
   "outputs": [],
   "source": [
    "cell_meta = pd.read_pickle(metadata_path)\n",
    "adata = anndata.read_h5ad(adata_path)"
   ]
  },
  {
   "cell_type": "code",
   "execution_count": null,
   "metadata": {
    "ExecuteTime": {
     "end_time": "2021-09-01T21:00:53.193037Z",
     "start_time": "2021-09-01T21:00:53.187021Z"
    }
   },
   "outputs": [],
   "source": [
    "cc = ConsensusClustering(model=None,\n",
    "                         n_neighbors=n_neighbors,\n",
    "                         metric=metric,\n",
    "                         min_cluster_size=min_cluster_size,\n",
    "                         leiden_repeats=leiden_repeats,\n",
    "                         leiden_resolution=leiden_resolution,\n",
    "                         consensus_rate=consensus_rate,\n",
    "                         random_state=random_state,\n",
    "                         train_frac=train_frac,\n",
    "                         train_max_n=train_max_n,\n",
    "                         max_iter=max_iter,\n",
    "                         n_jobs=n_jobs,\n",
    "                         target_accuracy=target_accuracy)"
   ]
  },
  {
   "cell_type": "code",
   "execution_count": null,
   "metadata": {
    "ExecuteTime": {
     "end_time": "2021-09-01T21:02:28.750103Z",
     "start_time": "2021-09-01T21:01:01.812747Z"
    },
    "scrolled": true
   },
   "outputs": [],
   "source": [
    "if 'X_pca' not in adata.obsm:\n",
    "    raise KeyError(\n",
    "        'X_pca do not exist in the adata file, run PCA first before clustering.'\n",
    "    )\n",
    "cc.fit_predict(adata.obsm['X_pca'])"
   ]
  },
  {
   "cell_type": "code",
   "execution_count": null,
   "metadata": {
    "ExecuteTime": {
     "end_time": "2021-09-01T21:02:29.498945Z",
     "start_time": "2021-09-01T21:02:28.754521Z"
    }
   },
   "outputs": [],
   "source": [
    "if plot_merge_steps:\n",
    "    cc.plot_merge_process(plot_size=3)"
   ]
  },
  {
   "cell_type": "code",
   "execution_count": null,
   "metadata": {
    "ExecuteTime": {
     "end_time": "2021-09-01T21:02:31.908912Z",
     "start_time": "2021-09-01T21:02:29.501902Z"
    }
   },
   "outputs": [],
   "source": [
    "# fig, axes = cc.plot_leiden_cases(coord_data=adata.obs,\n",
    "#                                  coord_base=coord_base)"
   ]
  },
  {
   "cell_type": "code",
   "execution_count": null,
   "metadata": {
    "ExecuteTime": {
     "end_time": "2021-09-01T21:02:41.731104Z",
     "start_time": "2021-09-01T21:02:31.911194Z"
    }
   },
   "outputs": [],
   "source": [
    "if plot_merge_steps:\n",
    "    cc.plot_steps(coord_data=adata.obs, coord_base=coord_base)\n"
   ]
  },
  {
   "cell_type": "code",
   "execution_count": null,
   "metadata": {
    "ExecuteTime": {
     "end_time": "2021-09-01T21:02:42.066864Z",
     "start_time": "2021-09-01T21:02:41.733311Z"
    }
   },
   "outputs": [],
   "source": [
    "adata.obs[clustering_name] = cc.label\n",
    "\n",
    "fig, ax = plt.subplots(figsize=(4, 4), dpi=250)\n",
    "_ = categorical_scatter(data=adata.obs,\n",
    "                        ax=ax,\n",
    "                        hue=clustering_name,\n",
    "                        coord_base=coord_base,\n",
    "                        palette='tab20',\n",
    "                        text_anno=clustering_name,\n",
    "                        show_legend=True)"
   ]
  },
  {
   "cell_type": "code",
   "execution_count": null,
   "metadata": {
    "ExecuteTime": {
     "end_time": "2021-09-01T21:02:42.422677Z",
     "start_time": "2021-09-01T21:02:42.069827Z"
    }
   },
   "outputs": [],
   "source": [
    "adata.obs[clustering_name + '_proba'] = cc.label_proba\n",
    "\n",
    "fig, ax = plt.subplots(figsize=(4, 4), dpi=250)\n",
    "_ = continuous_scatter(data=adata.obs,\n",
    "                       ax=ax,\n",
    "                       hue_norm=(0, 1),\n",
    "                       hue=clustering_name + '_proba',\n",
    "                        text_anno=clustering_name,\n",
    "                       coord_base=coord_base)"
   ]
  },
  {
   "cell_type": "code",
   "execution_count": null,
   "metadata": {
    "ExecuteTime": {
     "end_time": "2021-09-01T21:02:52.221659Z",
     "start_time": "2021-09-01T21:02:51.719902Z"
    }
   },
   "outputs": [],
   "source": [
    "fig, ax = plt.subplots(figsize=(6, 3), dpi=300)\n",
    "\n",
    "sns.violinplot(data=adata.obs,\n",
    "               x=clustering_name,\n",
    "               y=clustering_name + '_proba',\n",
    "               scale='width',\n",
    "               linewidth=0.5,\n",
    "               cut=0,\n",
    "               ax=ax)\n",
    "ax.set(ylim=(0, 1), title='Prediction Probability Per Cluster')\n",
    "ax.xaxis.set_tick_params(rotation=90)\n",
    "ax.grid(linewidth=0.5, color='gray', linestyle='--')\n",
    "sns.despine(ax=ax)\n"
   ]
  },
  {
   "cell_type": "code",
   "execution_count": null,
   "metadata": {
    "ExecuteTime": {
     "end_time": "2021-09-01T21:03:30.664567Z",
     "start_time": "2021-09-01T21:03:07.664459Z"
    }
   },
   "outputs": [],
   "source": [
    "# # using the cluster centroids in PC space to calculate dendrogram\n",
    "# pc_center = get_pc_centers(adata, group=clustering_name)\n",
    "\n",
    "# # calculate the cluster dendrogram using R package pvclust\n",
    "# dendro = Dendrogram(nboot=nboot,\n",
    "#                     method_dist=method_dist,\n",
    "#                     method_hclust=method_hclust,\n",
    "#                     n_jobs=n_jobs)\n",
    "# dendro.fit(pc_center)"
   ]
  },
  {
   "cell_type": "code",
   "execution_count": null,
   "metadata": {
    "ExecuteTime": {
     "end_time": "2021-09-01T21:03:31.017111Z",
     "start_time": "2021-09-01T21:03:30.667418Z"
    }
   },
   "outputs": [],
   "source": [
    "# fig, ax = plt.subplots(figsize=(9, 3), dpi=250)\n",
    "# _ = plot_dendrogram(dendro=dendro.dendrogram,\n",
    "#                     linkage_df=dendro.linkage,\n",
    "#                     ax=ax,\n",
    "#                     plot_non_singleton=False,\n",
    "#                     line_hue=dendro.edge_stats['au'], # au is the branch confidence score, see pvclust documentation\n",
    "#                     line_hue_norm=(0.5, 1))"
   ]
  },
  {
   "cell_type": "code",
   "execution_count": null,
   "metadata": {},
   "outputs": [],
   "source": [
    "if len(adata.obs[clustering_name].unique())>1:\n",
    "    adata.obs[clustering_name] = adata.obs[clustering_name].astype('category')\n",
    "    sc.tl.dendrogram(adata, clustering_name, n_pcs=0)"
   ]
  },
  {
   "cell_type": "code",
   "execution_count": null,
   "metadata": {},
   "outputs": [],
   "source": [
    "if len(adata.obs[clustering_name].unique())>1:\n",
    "    fig, ax = plt.subplots(figsize=(9, 3), dpi=80)\n",
    "    _ = plot_dendrogram(dendro=adata.uns[f'dendrogram_{clustering_name}']['dendrogram_info'],\n",
    "                        linkage_df=pd.DataFrame(adata.uns[f'dendrogram_{clustering_name}']['linkage']),\n",
    "                        ax=ax,\n",
    "                        plot_non_singleton=False,)"
   ]
  },
  {
   "cell_type": "code",
   "execution_count": null,
   "metadata": {
    "ExecuteTime": {
     "end_time": "2021-09-01T21:03:32.307863Z",
     "start_time": "2021-09-01T21:03:31.020332Z"
    }
   },
   "outputs": [],
   "source": [
    "cc.save(f'{clustering_name}.ConcensusClustering.model.lib')\n",
    "# dendro.save(f'{clustering_name}.Dendrogram.lib')\n",
    "adata.write_h5ad(adata_path)\n"
   ]
  }
 ],
 "metadata": {
  "celltoolbar": "Tags",
  "kernelspec": {
   "display_name": "Python 3 (ipykernel)",
   "language": "python",
   "name": "python3"
  },
  "language_info": {
   "codemirror_mode": {
    "name": "ipython",
    "version": 3
   },
   "file_extension": ".py",
   "mimetype": "text/x-python",
   "name": "python",
   "nbconvert_exporter": "python",
   "pygments_lexer": "ipython3",
   "version": "3.9.5"
  },
  "toc": {
   "base_numbering": 1,
   "nav_menu": {},
   "number_sections": true,
   "sideBar": true,
   "skip_h1_title": false,
   "title_cell": "Table of Contents",
   "title_sidebar": "Contents",
   "toc_cell": false,
   "toc_position": {},
   "toc_section_display": true,
   "toc_window_display": false
  }
 },
 "nbformat": 4,
 "nbformat_minor": 4
}
