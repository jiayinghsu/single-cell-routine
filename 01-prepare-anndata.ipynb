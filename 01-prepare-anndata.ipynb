{
 "cells": [
  {
   "cell_type": "code",
   "execution_count": null,
   "metadata": {
    "ExecuteTime": {
     "end_time": "2021-09-01T20:15:47.309560Z",
     "start_time": "2021-09-01T20:15:27.990732Z"
    }
   },
   "outputs": [],
   "source": [
    "import pathlib\n",
    "import pandas as pd\n",
    "import seaborn as sns\n",
    "from ALLCools.mcds import MCDS\n",
    "import dask\n",
    "import ALLCools\n",
    "from ALLCools.clustering import  cluster_enriched_features"
   ]
  },
  {
   "cell_type": "code",
   "execution_count": null,
   "metadata": {
    "ExecuteTime": {
     "end_time": "2021-09-01T20:15:47.321001Z",
     "start_time": "2021-09-01T20:15:47.313238Z"
    },
    "code_folding": [],
    "tags": [
     "parameters"
    ]
   },
   "outputs": [],
   "source": [
    "# change this to the path to your filtered metadata\n",
    "metadata_path = './CellMetadata.AfterQC.pdpkl'\n",
    "\n",
    "# change this to the paths to your MCDS files\n",
    "mcds_path_list = [\n",
    "]\n",
    "\n",
    "# Dimension name used to do clustering\n",
    "obs_dim = 'cell'  # observation\n",
    "var_dim = 'chrom100k'  # feature\n",
    "\n",
    "min_cov = 250\n",
    "max_cov = 3000\n",
    "\n",
    "# change this to the path to ENCODE blacklist.\n",
    "# The ENCODE blacklist can be download from https://github.com/Boyle-Lab/Blacklist/\n",
    "black_list_path = '~/refs/human/hg38/blacklist/hg38-blacklist.v2.bed.gz'\n",
    "black_list_f = 0.2\n",
    "\n",
    "exclude_chromosome = ['chrM', 'chrY']"
   ]
  },
  {
   "cell_type": "code",
   "execution_count": null,
   "metadata": {
    "ExecuteTime": {
     "end_time": "2021-09-01T20:15:47.329443Z",
     "start_time": "2021-09-01T20:15:47.324576Z"
    }
   },
   "outputs": [],
   "source": [
    "load = True\n",
    "feature_path = 'FeatureList.BasicFilter.txt'\n",
    "\n",
    "# HVF method:\n",
    "# SVR: regression based\n",
    "# Bins: normalize dispersion per bin\n",
    "hvf_method = 'SVR'\n",
    "mch_pattern = 'CHN'\n",
    "mcg_pattern = 'CGN'\n",
    "n_top_feature = 5000\n",
    "\n",
    "# Downsample cells\n",
    "downsample = 20000"
   ]
  },
  {
   "cell_type": "code",
   "execution_count": null,
   "metadata": {
    "ExecuteTime": {
     "end_time": "2021-09-01T20:15:47.350410Z",
     "start_time": "2021-09-01T20:15:47.332504Z"
    }
   },
   "outputs": [],
   "source": [
    "metadata = pd.read_pickle(metadata_path)\n",
    "total_cells = metadata.shape[0]\n",
    "print(f'Metadata of {total_cells} cells')"
   ]
  },
  {
   "cell_type": "code",
   "execution_count": null,
   "metadata": {
    "ExecuteTime": {
     "end_time": "2021-09-01T20:15:48.432651Z",
     "start_time": "2021-09-01T20:15:47.353520Z"
    }
   },
   "outputs": [],
   "source": [
    "mcds = MCDS.open(mcds_path_list, obs_dim='cell', use_obs=metadata.index)\n",
    "total_feature = mcds.get_index(var_dim).size"
   ]
  },
  {
   "cell_type": "code",
   "execution_count": null,
   "metadata": {
    "ExecuteTime": {
     "end_time": "2021-09-01T20:16:05.671821Z",
     "start_time": "2021-09-01T20:15:48.434719Z"
    }
   },
   "outputs": [],
   "source": [
    "mcds.add_feature_cov_mean(var_dim=var_dim)"
   ]
  },
  {
   "cell_type": "code",
   "execution_count": null,
   "metadata": {
    "ExecuteTime": {
     "end_time": "2021-09-01T20:16:05.703752Z",
     "start_time": "2021-09-01T20:16:05.677098Z"
    }
   },
   "outputs": [],
   "source": [
    "mcds = mcds.filter_feature_by_cov_mean(\n",
    "    var_dim=var_dim,\n",
    "    min_cov=min_cov,  # minimum coverage\n",
    "    max_cov=max_cov  # Maximum coverage\n",
    ")"
   ]
  },
  {
   "cell_type": "code",
   "execution_count": null,
   "metadata": {
    "ExecuteTime": {
     "end_time": "2021-09-01T20:16:07.970270Z",
     "start_time": "2021-09-01T20:16:05.706181Z"
    }
   },
   "outputs": [],
   "source": [
    "mcds = mcds.remove_black_list_region(\n",
    "    var_dim,\n",
    "    black_list_path,\n",
    "    f=black_list_f  # Features having overlap > f with any black list region will be removed.\n",
    ")\n",
    "\n",
    "mcds = mcds.remove_chromosome(var_dim, exclude_chromosome)"
   ]
  },
  {
   "cell_type": "code",
   "execution_count": null,
   "metadata": {
    "ExecuteTime": {
     "end_time": "2021-09-01T20:16:07.976570Z",
     "start_time": "2021-09-01T20:16:07.972682Z"
    }
   },
   "outputs": [],
   "source": [
    "print(\n",
    "    f'{mcds.get_index(var_dim).size} ({mcds.get_index(var_dim).size * 100 / total_feature:.1f}%) '\n",
    "    f'{var_dim} remained after all the basic filter.')"
   ]
  },
  {
   "cell_type": "code",
   "execution_count": null,
   "metadata": {
    "ExecuteTime": {
     "end_time": "2021-09-01T20:16:08.019663Z",
     "start_time": "2021-09-01T20:16:07.978692Z"
    }
   },
   "outputs": [],
   "source": [
    "with open(feature_path, 'w') as f:\n",
    "    for var in mcds.get_index(var_dim).astype(str):\n",
    "        f.write(var + '\\n')"
   ]
  },
  {
   "cell_type": "code",
   "execution_count": null,
   "metadata": {
    "ExecuteTime": {
     "end_time": "2021-09-01T20:16:08.031474Z",
     "start_time": "2021-09-01T20:16:08.021440Z"
    }
   },
   "outputs": [],
   "source": [
    "use_features = pd.read_csv(feature_path, header=None, index_col=0).index\n",
    "use_features.name = var_dim"
   ]
  },
  {
   "cell_type": "code",
   "execution_count": null,
   "metadata": {
    "ExecuteTime": {
     "end_time": "2021-09-01T20:16:08.440543Z",
     "start_time": "2021-09-01T20:16:08.033374Z"
    }
   },
   "outputs": [],
   "source": [
    "with dask.config.set(**{'array.slicing.split_large_chunks': False}):\n",
    "    # still use all the cells to load MCDS\n",
    "    total_mcds = MCDS.open(mcds_path_list,\n",
    "                           obs_dim=obs_dim,\n",
    "                           use_obs=metadata.index).sel({var_dim: use_features})"
   ]
  },
  {
   "cell_type": "code",
   "execution_count": null,
   "metadata": {
    "ExecuteTime": {
     "end_time": "2021-09-01T20:16:08.533565Z",
     "start_time": "2021-09-01T20:16:08.442746Z"
    }
   },
   "outputs": [],
   "source": [
    "total_mcds.add_mc_rate(var_dim=var_dim,\n",
    "                       normalize_per_cell=True,\n",
    "                       clip_norm_value=10)\n",
    "\n",
    "total_mcds\n"
   ]
  },
  {
   "cell_type": "code",
   "execution_count": null,
   "metadata": {
    "ExecuteTime": {
     "end_time": "2021-09-01T20:16:08.549879Z",
     "start_time": "2021-09-01T20:16:08.536113Z"
    }
   },
   "outputs": [],
   "source": [
    "if downsample and total_cells > downsample:\n",
    "    # make a downsampled mcds\n",
    "    print(f'Downsample cells to {downsample} to calculate HVF.')\n",
    "    downsample_cell_ids = metadata.sample(downsample, random_state=0).index\n",
    "    mcds = total_mcds.sel(\n",
    "        {obs_dim: total_mcds.get_index(obs_dim).isin(downsample_cell_ids)})\n",
    "else:\n",
    "    mcds = total_mcds"
   ]
  },
  {
   "cell_type": "code",
   "execution_count": null,
   "metadata": {
    "ExecuteTime": {
     "end_time": "2021-09-01T20:16:17.950129Z",
     "start_time": "2021-09-01T20:16:08.553422Z"
    }
   },
   "outputs": [],
   "source": [
    "if load and (mcds.get_index('cell').size <= downsample):\n",
    "    # load the relevant data so the computation can be fater, watch out memory!\n",
    "    mcds[f'{var_dim}_da_frac'].load()"
   ]
  },
  {
   "cell_type": "code",
   "execution_count": null,
   "metadata": {
    "ExecuteTime": {
     "end_time": "2021-09-01T20:18:08.170684Z",
     "start_time": "2021-09-01T20:16:17.952369Z"
    }
   },
   "outputs": [],
   "source": [
    "if hvf_method == 'SVR':\n",
    "    # use SVR based method\n",
    "    mch_hvf = mcds.calculate_hvf_svr(var_dim=var_dim,\n",
    "                                     mc_type=mch_pattern,\n",
    "                                     n_top_feature=n_top_feature,\n",
    "                                     plot=True)\n",
    "else:\n",
    "    # use bin based method\n",
    "    mch_hvf = mcds.calculate_hvf(var_dim=var_dim,\n",
    "                                 mc_type=mch_pattern,\n",
    "                                 min_mean=0,\n",
    "                                 max_mean=5,\n",
    "                                 n_top_feature=n_top_feature,\n",
    "                                 bin_min_features=5,\n",
    "                                 mean_binsize=0.05,\n",
    "                                 cov_binsize=100)"
   ]
  },
  {
   "cell_type": "code",
   "execution_count": null,
   "metadata": {
    "ExecuteTime": {
     "end_time": "2021-09-01T20:18:08.635504Z",
     "start_time": "2021-09-01T20:18:08.172581Z"
    }
   },
   "outputs": [],
   "source": [
    "total_mcds.coords[f'{var_dim}_{mch_pattern}_feature_select'] = mcds.coords[\n",
    "    f'{var_dim}_{mch_pattern}_feature_select']\n",
    "mch_adata = total_mcds.get_adata(mc_type=mch_pattern,\n",
    "                           var_dim=var_dim,\n",
    "                           select_hvf=True)\n",
    "\n",
    "mch_adata.write_h5ad(f'mCH.HVF.h5ad')\n",
    "\n",
    "mch_adata"
   ]
  },
  {
   "cell_type": "code",
   "execution_count": null,
   "metadata": {
    "ExecuteTime": {
     "end_time": "2021-09-01T19:42:08.176570Z",
     "start_time": "2021-09-01T19:42:07.525289Z"
    }
   },
   "outputs": [],
   "source": []
  },
  {
   "cell_type": "code",
   "execution_count": null,
   "metadata": {
    "ExecuteTime": {
     "end_time": "2021-09-01T20:19:51.420782Z",
     "start_time": "2021-09-01T20:18:08.638738Z"
    }
   },
   "outputs": [],
   "source": [
    "if hvf_method == 'SVR':\n",
    "    # use SVR based method\n",
    "    mcg_hvf = mcds.calculate_hvf_svr(var_dim=var_dim,\n",
    "                                     mc_type=mcg_pattern,\n",
    "                                     n_top_feature=n_top_feature,\n",
    "                                     plot=True)\n",
    "else:\n",
    "    # use bin based method\n",
    "    mcg_hvf = mcds.calculate_hvf(var_dim=var_dim,\n",
    "                                 mc_type=mcg_pattern,\n",
    "                                 min_mean=0,\n",
    "                                 max_mean=5,\n",
    "                                 n_top_feature=n_top_feature,\n",
    "                                 bin_min_features=5,\n",
    "                                 mean_binsize=0.02,\n",
    "                                 cov_binsize=20)"
   ]
  },
  {
   "cell_type": "code",
   "execution_count": null,
   "metadata": {
    "ExecuteTime": {
     "end_time": "2021-09-01T20:19:52.019665Z",
     "start_time": "2021-09-01T20:19:51.422884Z"
    }
   },
   "outputs": [],
   "source": [
    "total_mcds.coords[f'{var_dim}_{mch_pattern}_feature_select'] = mcds.coords[\n",
    "    f'{var_dim}_{mch_pattern}_feature_select']\n",
    "mcg_adata = total_mcds.get_adata(mc_type=mcg_pattern,\n",
    "                                 var_dim=var_dim,\n",
    "                                 select_hvf=True)\n",
    "\n",
    "mcg_adata.write_h5ad(f'mCG.HVF.h5ad')\n",
    "\n",
    "mcg_adata"
   ]
  },
  {
   "cell_type": "code",
   "execution_count": null,
   "metadata": {},
   "outputs": [],
   "source": []
  }
 ],
 "metadata": {
  "celltoolbar": "Tags",
  "kernelspec": {
   "display_name": "Python 3 (ipykernel)",
   "language": "python",
   "name": "python3"
  },
  "language_info": {
   "codemirror_mode": {
    "name": "ipython",
    "version": 3
   },
   "file_extension": ".py",
   "mimetype": "text/x-python",
   "name": "python",
   "nbconvert_exporter": "python",
   "pygments_lexer": "ipython3",
   "version": "3.9.5"
  },
  "toc": {
   "base_numbering": 1,
   "nav_menu": {},
   "number_sections": true,
   "sideBar": true,
   "skip_h1_title": false,
   "title_cell": "Table of Contents",
   "title_sidebar": "Contents",
   "toc_cell": false,
   "toc_position": {},
   "toc_section_display": true,
   "toc_window_display": false
  }
 },
 "nbformat": 4,
 "nbformat_minor": 4
}
